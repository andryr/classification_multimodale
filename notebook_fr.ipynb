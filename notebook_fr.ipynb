{
 "cells": [
  {
   "cell_type": "markdown",
   "metadata": {
    "papermill": {
     "duration": 0.038904,
     "end_time": "2021-03-05T21:53:45.740117",
     "exception": false,
     "start_time": "2021-03-05T21:53:45.701213",
     "status": "completed"
    },
    "tags": []
   },
   "source": [
    "# Classification de données multimodales"
   ]
  },
  {
   "cell_type": "markdown",
   "metadata": {
    "papermill": {
     "duration": 0.035945,
     "end_time": "2021-03-05T21:53:45.812224",
     "exception": false,
     "start_time": "2021-03-05T21:53:45.776279",
     "status": "completed"
    },
    "tags": []
   },
   "source": [
    "## Lecture des données"
   ]
  },
  {
   "cell_type": "markdown",
   "metadata": {
    "papermill": {
     "duration": 0.035533,
     "end_time": "2021-03-05T21:53:45.883946",
     "exception": false,
     "start_time": "2021-03-05T21:53:45.848413",
     "status": "completed"
    },
    "tags": []
   },
   "source": [
    "Les fichiers CSV contiennent les données audio et le chemin des images pour chaque scène. Le fichier d'entraînement contient en plus les classes associées. "
   ]
  },
  {
   "cell_type": "code",
   "execution_count": 1,
   "metadata": {
    "_cell_guid": "b1076dfc-b9ad-4769-8c92-a6c4dae69d19",
    "_uuid": "8f2839f25d086af736a60e9eeb907d3b93b6e0e5",
    "papermill": {
     "duration": 0.995154,
     "end_time": "2021-03-05T21:53:46.999809",
     "exception": false,
     "start_time": "2021-03-05T21:53:46.004655",
     "status": "completed"
    },
    "tags": []
   },
   "outputs": [],
   "source": [
    "# This Python 3 environment comes with many helpful analytics libraries installed\n",
    "# It is defined by the kaggle/python Docker image: https://github.com/kaggle/docker-python\n",
    "# For example, here's several helpful packages to load\n",
    "\n",
    "import numpy as np # linear algebra\n",
    "import pandas as pd # data processing, CSV file I/O (e.g. pd.read_csv)\n",
    "import os\n",
    "# Input data files are available in the read-only \"../input/\" directory\n",
    "# For example, running this (by clicking run or pressing Shift+Enter) will list all files under the input directory\n",
    "\n",
    "# datadir = '/kaggle/input/iogs-atsi-multimodal'\n",
    "datadir = 'iogs-atsi-multimodal'\n",
    "\n",
    "# You can write up to 20GB to the current directory (/kaggle/working/) that gets preserved as output when you create a version using \"Save & Run All\" \n",
    "# You can also write temporary files to /kaggle/temp/, but they won't be saved outside of the current session\n",
    "\n",
    "\n",
    "data_df = pd.read_csv(os.path.join(datadir,'data_train.csv'), delimiter=',', nrows = None)\n",
    "data = np.array(data_df)\n",
    "\n",
    "labels = data[:,-1].astype('int32')\n",
    "\n",
    "audio = data[:, 1:-1].astype('float32')\n",
    "\n",
    "img_list = data_df['IMAGE']\n",
    "\n"
   ]
  },
  {
   "cell_type": "markdown",
   "metadata": {
    "papermill": {
     "duration": 0.037624,
     "end_time": "2021-03-05T21:53:48.507215",
     "exception": false,
     "start_time": "2021-03-05T21:53:48.469591",
     "status": "completed"
    },
    "tags": []
   },
   "source": [
    "On fixe les seed pour la reproductibilité des résultats"
   ]
  },
  {
   "cell_type": "code",
   "execution_count": 2,
   "metadata": {
    "papermill": {
     "duration": 1.548276,
     "end_time": "2021-03-05T21:53:50.09355",
     "exception": false,
     "start_time": "2021-03-05T21:53:48.545274",
     "status": "completed"
    },
    "tags": []
   },
   "outputs": [],
   "source": [
    "import torch\n",
    "import random\n",
    "\n",
    "torch.manual_seed(0)\n",
    "torch.cuda.manual_seed(0)\n",
    "random.seed(0)\n",
    "np.random.seed(0)"
   ]
  },
  {
   "cell_type": "markdown",
   "metadata": {
    "papermill": {
     "duration": 0.03772,
     "end_time": "2021-03-05T21:53:50.170133",
     "exception": false,
     "start_time": "2021-03-05T21:53:50.132413",
     "status": "completed"
    },
    "tags": []
   },
   "source": [
    "### Séparation des données en ensembles de train et validation"
   ]
  },
  {
   "cell_type": "markdown",
   "metadata": {
    "papermill": {
     "duration": 0.037643,
     "end_time": "2021-03-05T21:53:50.24615",
     "exception": false,
     "start_time": "2021-03-05T21:53:50.208507",
     "status": "completed"
    },
    "tags": []
   },
   "source": [
    "On sépare les données en 2 ensembles : 1 ensemble d'entraînement et 1 ensemble de validation.\n",
    "L'ensemble de validation sert à comparer les choix de modèles et d'hyperparamètres entre eux."
   ]
  },
  {
   "cell_type": "code",
   "execution_count": 3,
   "metadata": {
    "papermill": {
     "duration": 0.802095,
     "end_time": "2021-03-05T21:53:51.086244",
     "exception": false,
     "start_time": "2021-03-05T21:53:50.284149",
     "status": "completed"
    },
    "tags": []
   },
   "outputs": [],
   "source": [
    "from sklearn.model_selection import train_test_split\n",
    "\n",
    "img_train, img_val, audio_train, audio_val, y_train, y_val = train_test_split(img_list, audio, \n",
    "                                                                              labels, test_size=0.33,\n",
    "                                                                             random_state=33)"
   ]
  },
  {
   "cell_type": "markdown",
   "metadata": {
    "papermill": {
     "duration": 0.039177,
     "end_time": "2021-03-05T21:53:51.163583",
     "exception": false,
     "start_time": "2021-03-05T21:53:51.124406",
     "status": "completed"
    },
    "tags": []
   },
   "source": [
    "## Images"
   ]
  },
  {
   "cell_type": "markdown",
   "metadata": {
    "papermill": {
     "duration": 0.037533,
     "end_time": "2021-03-05T21:53:51.239445",
     "exception": false,
     "start_time": "2021-03-05T21:53:51.201912",
     "status": "completed"
    },
    "tags": []
   },
   "source": [
    "On commence par faire une classification n'utilisant que les images. Une façon simple de faire cela est d'utiliser un réseau de neurone convolutionnel préentrainé. PyTorch propose des réseaux préentrainés sur le dataset ImageNet, qui contient plusieurs millions d'images. Ces réseaux sont entraînés pour un problème de classification différent, il faut donc modifier la dernière couche et la réentraîner sur nos données.\n",
    "Cela fonctionne car les images de ImageNet sont de natures similaires à celles de notre jeu de données (ce sont aussi des photographies), et que le réseau privé de sa dernière couche peut être vu comme une sorte  d'extracteur de features."
   ]
  },
  {
   "cell_type": "markdown",
   "metadata": {
    "papermill": {
     "duration": 0.037839,
     "end_time": "2021-03-05T21:53:51.315116",
     "exception": false,
     "start_time": "2021-03-05T21:53:51.277277",
     "status": "completed"
    },
    "tags": []
   },
   "source": [
    "### Visualisation des images"
   ]
  },
  {
   "cell_type": "code",
   "execution_count": 4,
   "metadata": {
    "papermill": {
     "duration": 0.336985,
     "end_time": "2021-03-05T21:53:51.689919",
     "exception": false,
     "start_time": "2021-03-05T21:53:51.352934",
     "status": "completed"
    },
    "tags": []
   },
   "outputs": [
    {
     "name": "stdout",
     "output_type": "stream",
     "text": [
      "JUNGLE\n"
     ]
    },
    {
     "data": {
      "image/png": "[encoded data removed]",
      "text/plain": [
       "<Figure size 432x288 with 1 Axes>"
      ]
     },
     "metadata": {
      "needs_background": "light"
     },
     "output_type": "display_data"
    }
   ],
   "source": [
    "import matplotlib.pyplot as plt\n",
    "from PIL import Image\n",
    "\n",
    "# visu image\n",
    "idx = 5\n",
    "class_list = ['FOREST', 'CITY', 'BEACH', 'CLASSROOM', 'RIVER', 'JUNGLE', 'RESTAURANT', 'GROCERY-STORE', 'FOOTBALL-MATCH']\n",
    "img = Image.open(f'{datadir}/data/data/{img_train.iloc[idx]}')\n",
    "plt.imshow(np.asarray(img))\n",
    "print(class_list[y_train[idx]])"
   ]
  },
  {
   "cell_type": "markdown",
   "metadata": {
    "papermill": {
     "duration": 0.079697,
     "end_time": "2021-03-05T21:53:51.845767",
     "exception": false,
     "start_time": "2021-03-05T21:53:51.76607",
     "status": "completed"
    },
    "tags": []
   },
   "source": [
    "### Datasets pour PyTorch"
   ]
  },
  {
   "cell_type": "markdown",
   "metadata": {
    "papermill": {
     "duration": 0.068054,
     "end_time": "2021-03-05T21:53:51.98659",
     "exception": false,
     "start_time": "2021-03-05T21:53:51.918536",
     "status": "completed"
    },
    "tags": []
   },
   "source": [
    "On définit une classe ImageAudioDataset pour PyTorch. La classe définit une fonction pour charger les images qui renvoie un couple (image, données audio) ou un triplet (image, données audio, label)."
   ]
  },
  {
   "cell_type": "code",
   "execution_count": 5,
   "metadata": {
    "papermill": {
     "duration": 0.076167,
     "end_time": "2021-03-05T21:53:52.141262",
     "exception": false,
     "start_time": "2021-03-05T21:53:52.065095",
     "status": "completed"
    },
    "tags": []
   },
   "outputs": [],
   "source": [
    "from PIL import Image\n",
    "from torch.utils.data import Dataset, DataLoader\n",
    "\n",
    "\n",
    "class ImageAudioDataset(Dataset):\n",
    "    def __init__(self, root_dir, files, audio, labels=None, img_transform=None, audio_transform=None):\n",
    "        self.root_dir = root_dir\n",
    "        self.files = files\n",
    "        self.audio = audio\n",
    "        self.labels = labels\n",
    "        self.img_transform = img_transform\n",
    "        self.audio_transform = audio_transform\n",
    "\n",
    "    def __len__(self):\n",
    "        return len(self.files)\n",
    "\n",
    "    def __getitem__(self, idx):\n",
    "        img = Image.open(f'{self.root_dir}{self.files.iloc[idx]}')\n",
    "        audio = self.audio[idx,:]\n",
    "        if self.img_transform is not None:\n",
    "            img = self.img_transform(img)\n",
    "        if self.audio_transform is not None:\n",
    "            audio = self.audio_transform(audio)\n",
    "        if self.labels is not None:\n",
    "            return img, audio, int(self.labels[idx])\n",
    "        else:\n",
    "            return img, audio"
   ]
  },
  {
   "cell_type": "markdown",
   "metadata": {},
   "source": [
    "Sur Windows il faut mettre la classe dans un fichier à part et exécuter la cellule suivante."
   ]
  },
  {
   "cell_type": "code",
   "execution_count": 6,
   "metadata": {},
   "outputs": [],
   "source": [
    "if os.name == 'nt':\n",
    "    from datasets import ImageAudioDataset"
   ]
  },
  {
   "cell_type": "markdown",
   "metadata": {
    "papermill": {
     "duration": 0.061487,
     "end_time": "2021-03-05T21:53:52.266899",
     "exception": false,
     "start_time": "2021-03-05T21:53:52.205412",
     "status": "completed"
    },
    "tags": []
   },
   "source": [
    "La fonction suivante permet d'entraîner un modèle PyTorch. Elle garde le modèle qui a la meilleure précision sur l'ensemble de validation. On pourra réutiliser la même fonction pour entrainer un classifieur se basant seulement sur l'audio ou sur l'audio et les images à la fois."
   ]
  },
  {
   "cell_type": "code",
   "execution_count": 7,
   "metadata": {
    "papermill": {
     "duration": 0.094474,
     "end_time": "2021-03-05T21:53:52.402393",
     "exception": false,
     "start_time": "2021-03-05T21:53:52.307919",
     "status": "completed"
    },
    "tags": []
   },
   "outputs": [],
   "source": [
    "import copy\n",
    "import time\n",
    "\n",
    "def train(model, train_loader, val_loader, criterion, optimizer, scheduler=None, num_epochs=10, input_type='image'):\n",
    "    loss_vals = []\n",
    "    train_acc_vals = []\n",
    "    val_acc_vals = []\n",
    "    best_val_acc = 0.0\n",
    "    best_train_acc = 0.0\n",
    "    best_model_state = copy.deepcopy(model.state_dict())\n",
    "    \n",
    "    scaler = torch.cuda.amp.GradScaler()\n",
    "    \n",
    "    for epoch in range(num_epochs):\n",
    "        epoch_start = time.time()\n",
    "        model.train()\n",
    "        epoch_loss = []\n",
    "        running_loss = 0.0\n",
    "        train_acc = 0.0\n",
    "        for i, data in enumerate(train_loader):   ## on itere sur les données \n",
    "            img, audio, targets = data\n",
    "            img, audio, targets = img.cuda(), audio.cuda(), targets.cuda()\n",
    "\n",
    "            # zero the parameter gradients\n",
    "            optimizer.zero_grad()\n",
    "            with torch.cuda.amp.autocast():\n",
    "                if input_type == 'image':\n",
    "                    outputs = model(img)\n",
    "                elif input_type == 'audio':\n",
    "                    outputs = model(audio)\n",
    "                elif input_type == 'multimodal':\n",
    "                    outputs = model(img, audio)\n",
    "                else:\n",
    "                    raise ValueError('input_type should be one of \"image\", \"audio\" or \"multimodal\"')\n",
    "\n",
    "                loss = criterion(outputs,targets)  ## on compare la sortie courante à la sortie voulue\n",
    "                _,pred = outputs.max(1)\n",
    "                train_acc += torch.sum(pred == targets)\n",
    "                \n",
    "            scaler.scale(loss).backward()\n",
    "            scaler.step(optimizer)\n",
    "            scaler.update()\n",
    "            \n",
    "            epoch_loss.append(loss.item())\n",
    "\n",
    "            # print statistics\n",
    "            running_loss += loss.item()\n",
    "            if i % 100 == 99:    # print every 100 mini-batches\n",
    "                print('[%d, %5d] loss: %.3f' %\n",
    "                        (epoch + 1, i + 1, running_loss / 100))\n",
    "                running_loss = 0.0\n",
    "        \n",
    "        loss_val = sum(epoch_loss)/len(epoch_loss)\n",
    "        train_acc = train_acc / len(train_loader.dataset)\n",
    "        if scheduler is not None:\n",
    "            scheduler.step(loss_val)\n",
    "            print(f'Learning rate : {optimizer.param_groups[0][\"lr\"]}')\n",
    "            \n",
    "        loss_vals.append(loss_val)\n",
    "        train_acc_vals.append(train_acc)\n",
    "\n",
    "        # calcul précision validation\n",
    "        if val_loader is not None:\n",
    "            val_acc = 0.0\n",
    "            model.eval()\n",
    "            with torch.no_grad():  ### ici pas besoin de calculer les gradients\n",
    "                for img, audio, targets in val_loader:\n",
    "                    img = img.cuda()\n",
    "                    audio = audio.cuda()\n",
    "                    targets = targets.cuda()\n",
    "                    with torch.cuda.amp.autocast():\n",
    "                        if input_type == 'image':\n",
    "                            outputs = model(img)\n",
    "                        elif input_type=='audio':\n",
    "                            outputs = model(audio)\n",
    "                        elif input_type == 'multimodal':\n",
    "                            outputs = model(img, audio)\n",
    "                        else:\n",
    "                            raise ValueError('input_type should be one of \"image\", \"audio\" or \"multimodal\"')\n",
    "\n",
    "                        #print(outputs)\n",
    "                        _,pred = outputs.max(1)\n",
    "                        val_acc += torch.sum(pred == targets)\n",
    "\n",
    "            val_acc = val_acc / len(val_loader.dataset)\n",
    "            if val_acc > best_val_acc:\n",
    "                best_val_acc = val_acc\n",
    "                best_model_state = copy.deepcopy(model.state_dict())\n",
    "            val_acc_vals.append(val_acc)\n",
    "            print(f'Train accuracy: {train_acc}, validation accuracy : {val_acc}')\n",
    "        else:\n",
    "            if train_acc > best_train_acc:\n",
    "                best_train_acc = train_acc\n",
    "                best_model_state = copy.deepcopy(model.state_dict())         \n",
    "            print(f'Train accuracy: {train_acc}')\n",
    "            \n",
    "        print(f'Epoch duration : {time.time() - epoch_start}')\n",
    "    \n",
    "    model.load_state_dict(best_model_state)\n",
    "    if val_loader is None:\n",
    "        return model, loss_vals, train_acc_vals\n",
    "    else:\n",
    "        return model, loss_vals, train_acc_vals, val_acc_vals"
   ]
  },
  {
   "cell_type": "markdown",
   "metadata": {},
   "source": [
    "La fonction suivante renvoie les prédictions d'un modèle, et éventuellement les données ayant entraîné une mauvaise prédiction."
   ]
  },
  {
   "cell_type": "code",
   "execution_count": 8,
   "metadata": {},
   "outputs": [],
   "source": [
    "def predict(model, dataloader, has_labels=False, input_type='image'):\n",
    "    model.eval()\n",
    "    v=[]\n",
    "    incorrect_pred=[]\n",
    "    with torch.no_grad():  ### ici pas besoin de calculer les gradients\n",
    "        for data in dataloader:\n",
    "            if has_labels:\n",
    "                img, audio, labels = data\n",
    "            else:\n",
    "                img, audio = data\n",
    "            img = img.cuda()\n",
    "            audio = audio.cuda()\n",
    "            \n",
    "            if input_type == 'image':\n",
    "                outputs = model(img)\n",
    "            elif input_type=='audio':\n",
    "                outputs = model(audio)\n",
    "            elif input_type == 'multimodal':\n",
    "                outputs = model(img, audio)\n",
    "            else:\n",
    "                raise ValueError('input_type should be one of \"image\", \"audio\" or \"multimodal\"')\n",
    "            \n",
    "            _,pred = outputs.max(1)\n",
    "            \n",
    "            if has_labels:\n",
    "                for i, p in enumerate(pred):\n",
    "                    if p != labels[i]:\n",
    "                        incorrect_pred.append((img[i,:], audio[i,:], labels[i], pred[i]))\n",
    "\n",
    "            v.append(pred.cpu())\n",
    "    \n",
    "    v = torch.cat(v, 0)\n",
    "    \n",
    "    if has_labels:\n",
    "        return v, incorrect_pred\n",
    "    else:\n",
    "        return v"
   ]
  },
  {
   "cell_type": "markdown",
   "metadata": {
    "papermill": {
     "duration": 0.062879,
     "end_time": "2021-03-05T21:53:52.528634",
     "exception": false,
     "start_time": "2021-03-05T21:53:52.465755",
     "status": "completed"
    },
    "tags": []
   },
   "source": [
    "Le réseau utilisé est un réseau ResNeXt50_32x4d préentrainé sur ImageNet (l'architecture est décrite ici : https://arxiv.org/abs/1611.05431). Les images sont normalisées par canal selon les coefficients donnés dans le code, comme préconisé par la documentation de PyTorch.\n",
    "Pour l'entraînement, des transformations aléatoires (crop, retournement horizontal) sont opérés pour limiter le surapprentissage (c'est une forme de data augmentation). Ces transformations sont faites sur chaque batch à chaque epoch, le réseau ne verra donc jamais exactement deux fois la même image."
   ]
  },
  {
   "cell_type": "markdown",
   "metadata": {
    "papermill": {
     "duration": 0.065128,
     "end_time": "2021-03-05T21:53:52.662618",
     "exception": false,
     "start_time": "2021-03-05T21:53:52.59749",
     "status": "completed"
    },
    "tags": []
   },
   "source": [
    "On choisit une taille de batch de 16 pour l'entraînement. Nous avons aussi testé les tailles 32 et 64, qui donnaient des résultats légèrement moins bons."
   ]
  },
  {
   "cell_type": "code",
   "execution_count": 9,
   "metadata": {
    "papermill": {
     "duration": 0.188231,
     "end_time": "2021-03-05T21:53:52.892698",
     "exception": false,
     "start_time": "2021-03-05T21:53:52.704467",
     "status": "completed"
    },
    "tags": []
   },
   "outputs": [],
   "source": [
    "import torchvision\n",
    "\n",
    "\n",
    "img_train_transform = torchvision.transforms.Compose([\n",
    "    torchvision.transforms.RandomResizedCrop(224),\n",
    "        torchvision.transforms.RandomHorizontalFlip(),\n",
    "        torchvision.transforms.ToTensor(),\n",
    "        torchvision.transforms.Normalize([0.485, 0.456, 0.406], [0.229, 0.224, 0.225])\n",
    "])\n",
    "img_val_transform = torchvision.transforms.Compose([\n",
    "    torchvision.transforms.CenterCrop(224),\n",
    "        torchvision.transforms.ToTensor(),\n",
    "        torchvision.transforms.Normalize([0.485, 0.456, 0.406], [0.229, 0.224, 0.225])\n",
    "])\n",
    "audio_transform = None\n",
    "\n",
    "train_dataset = ImageAudioDataset(root_dir=f'{datadir}/data/data/',\n",
    "                           files=img_train,\n",
    "                                 audio=audio_train,\n",
    "                                 labels=y_train,\n",
    "                          img_transform=img_train_transform,\n",
    "                                 audio_transform=audio_transform)\n",
    "train_loader = DataLoader(train_dataset, batch_size=16, shuffle=True, num_workers=4, pin_memory=True)\n",
    "\n",
    "val_dataset = ImageAudioDataset(root_dir=f'{datadir}/data/data/',\n",
    "                           files=img_val,\n",
    "                           audio=audio_val,\n",
    "                           labels=y_val,\n",
    "                          img_transform=img_val_transform,\n",
    "                             audio_transform=audio_transform)\n",
    "val_loader = DataLoader(val_dataset, batch_size=64, shuffle=True, num_workers=4, pin_memory=True)"
   ]
  },
  {
   "cell_type": "markdown",
   "metadata": {
    "papermill": {
     "duration": 0.041251,
     "end_time": "2021-03-05T21:53:52.975451",
     "exception": false,
     "start_time": "2021-03-05T21:53:52.9342",
     "status": "completed"
    },
    "tags": []
   },
   "source": [
    "Le code suivant crée le réseau ResNext et charge les coefficients du modèle préentrainé. On remplace la dernière couche (qui a 1000 sorties par défaut) par une couche à 9 sorties, une pour chaque classe. "
   ]
  },
  {
   "cell_type": "code",
   "execution_count": 10,
   "metadata": {
    "papermill": {
     "duration": 10.934529,
     "end_time": "2021-03-05T21:54:03.952072",
     "exception": false,
     "start_time": "2021-03-05T21:53:53.017543",
     "status": "completed"
    },
    "tags": []
   },
   "outputs": [],
   "source": [
    "import torchvision.models\n",
    "import torch\n",
    "import torch.nn as nn\n",
    "import torch.nn.functional as F\n",
    "\n",
    "resnext = torchvision.models.resnext50_32x4d(pretrained=True, progress=True)\n",
    "\n",
    "for param in resnext.parameters(): # on ne calcule les gradients que pour la dernière couche\n",
    "    param.requires_grad = False\n",
    "    \n",
    "num_ftrs = resnext.fc.in_features\n",
    "resnext.fc = nn.Linear(num_ftrs, 9)\n",
    "\n",
    "resnext = resnext.cuda()"
   ]
  },
  {
   "cell_type": "markdown",
   "metadata": {
    "papermill": {
     "duration": 0.04674,
     "end_time": "2021-03-05T21:54:04.045341",
     "exception": false,
     "start_time": "2021-03-05T21:54:03.998601",
     "status": "completed"
    },
    "tags": []
   },
   "source": [
    "Pour l'entraînement on choisir comme learning rate de départ 0.001. Il est divisé par 2 à chaque epoch où la valeur de loss ne diminue pas. Ces paramètres ont été choisis après plusieurs expérimentations, ce sont ceux qui nous ont donné les meilleurs résultats sur l'ensemble de validation. On n'entraine que la dernière couche, donc il faut ne passer que les paramètres de la dernière couche à l'optimiseur."
   ]
  },
  {
   "cell_type": "code",
   "execution_count": 11,
   "metadata": {
    "papermill": {
     "duration": 0.05404,
     "end_time": "2021-03-05T21:54:04.147183",
     "exception": false,
     "start_time": "2021-03-05T21:54:04.093143",
     "status": "completed"
    },
    "tags": []
   },
   "outputs": [],
   "source": [
    "from torch.optim import lr_scheduler\n",
    "import torch.optim as optim\n",
    "\n",
    "optimizer = optim.Adam(resnext.fc.parameters(), lr=0.001) # on optimise seulement les coeffs de la dernière couche\n",
    "criterion = nn.CrossEntropyLoss()\n",
    "scheduler = lr_scheduler.ReduceLROnPlateau(optimizer, patience=0,factor=0.5) # permet de réduire le learning rate quand la loss ne diminue pas"
   ]
  },
  {
   "cell_type": "markdown",
   "metadata": {
    "papermill": {
     "duration": 0.04256,
     "end_time": "2021-03-05T21:54:04.235152",
     "exception": false,
     "start_time": "2021-03-05T21:54:04.192592",
     "status": "completed"
    },
    "tags": []
   },
   "source": [
    "Le code suivant entraîne le réseau pour le nombre d'epochs spécifié (1 epoch = 1 passage sur toutes les données d'entraînement)."
   ]
  },
  {
   "cell_type": "code",
   "execution_count": 12,
   "metadata": {
    "papermill": {
     "duration": 2054.839199,
     "end_time": "2021-03-05T22:28:19.116908",
     "exception": false,
     "start_time": "2021-03-05T21:54:04.277709",
     "status": "completed"
    },
    "tags": []
   },
   "outputs": [
    {
     "name": "stdout",
     "output_type": "stream",
     "text": [
      "[1,   100] loss: 0.955\n",
      "[1,   200] loss: 0.460\n",
      "[1,   300] loss: 0.354\n",
      "[1,   400] loss: 0.302\n",
      "[1,   500] loss: 0.257\n",
      "Learning rate : 0.001\n",
      "Train accuracy: 0.8694711923599243, validation accuracy : 0.9679473042488098\n",
      "Epoch duration : 38.42163968086243\n",
      "[2,   100] loss: 0.269\n",
      "[2,   200] loss: 0.235\n",
      "[2,   300] loss: 0.244\n",
      "[2,   400] loss: 0.218\n",
      "[2,   500] loss: 0.215\n",
      "Learning rate : 0.001\n",
      "Train accuracy: 0.9254893660545349, validation accuracy : 0.9681668281555176\n",
      "Epoch duration : 37.23245406150818\n",
      "[3,   100] loss: 0.217\n",
      "[3,   200] loss: 0.202\n",
      "[3,   300] loss: 0.197\n",
      "[3,   400] loss: 0.204\n",
      "[3,   500] loss: 0.182\n",
      "Learning rate : 0.001\n",
      "Train accuracy: 0.934465229511261, validation accuracy : 0.969264566898346\n",
      "Epoch duration : 36.8620970249176\n",
      "[4,   100] loss: 0.198\n",
      "[4,   200] loss: 0.186\n",
      "[4,   300] loss: 0.221\n",
      "[4,   400] loss: 0.195\n",
      "[4,   500] loss: 0.225\n",
      "Learning rate : 0.001\n",
      "Train accuracy: 0.9315453767776489, validation accuracy : 0.9754116535186768\n",
      "Epoch duration : 36.19767737388611\n",
      "[5,   100] loss: 0.170\n",
      "[5,   200] loss: 0.169\n",
      "[5,   300] loss: 0.156\n",
      "[5,   400] loss: 0.197\n",
      "[5,   500] loss: 0.198\n",
      "Learning rate : 0.001\n",
      "Train accuracy: 0.939656138420105, validation accuracy : 0.9756311774253845\n",
      "Epoch duration : 36.883596420288086\n",
      "[6,   100] loss: 0.150\n",
      "[6,   200] loss: 0.200\n",
      "[6,   300] loss: 0.161\n",
      "[6,   400] loss: 0.158\n",
      "[6,   500] loss: 0.156\n",
      "Learning rate : 0.001\n",
      "Train accuracy: 0.9435492753982544, validation accuracy : 0.9714599251747131\n",
      "Epoch duration : 36.57930397987366\n",
      "[7,   100] loss: 0.180\n",
      "[7,   200] loss: 0.183\n",
      "[7,   300] loss: 0.202\n",
      "[7,   400] loss: 0.175\n",
      "[7,   500] loss: 0.157\n",
      "Learning rate : 0.0005\n",
      "Train accuracy: 0.9394398331642151, validation accuracy : 0.9811196327209473\n",
      "Epoch duration : 36.62224864959717\n",
      "[8,   100] loss: 0.144\n",
      "[8,   200] loss: 0.156\n",
      "[8,   300] loss: 0.157\n",
      "[8,   400] loss: 0.146\n",
      "[8,   500] loss: 0.172\n",
      "Learning rate : 0.0005\n",
      "Train accuracy: 0.9511193037033081, validation accuracy : 0.9850713610649109\n",
      "Epoch duration : 37.84082889556885\n",
      "[9,   100] loss: 0.141\n",
      "[9,   200] loss: 0.146\n",
      "[9,   300] loss: 0.113\n",
      "[9,   400] loss: 0.136\n",
      "[9,   500] loss: 0.133\n",
      "Learning rate : 0.0005\n",
      "Train accuracy: 0.9554450511932373, validation accuracy : 0.9850713610649109\n",
      "Epoch duration : 37.21618890762329\n",
      "[10,   100] loss: 0.145\n",
      "[10,   200] loss: 0.118\n",
      "[10,   300] loss: 0.135\n",
      "[10,   400] loss: 0.147\n",
      "[10,   500] loss: 0.142\n",
      "Learning rate : 0.00025\n",
      "Train accuracy: 0.9537147283554077, validation accuracy : 0.9848518371582031\n",
      "Epoch duration : 37.52941012382507\n",
      "[11,   100] loss: 0.137\n",
      "[11,   200] loss: 0.123\n",
      "[11,   300] loss: 0.149\n",
      "[11,   400] loss: 0.115\n",
      "[11,   500] loss: 0.128\n",
      "Learning rate : 0.00025\n",
      "Train accuracy: 0.9580404758453369, validation accuracy : 0.9813392162322998\n",
      "Epoch duration : 37.31876564025879\n",
      "[12,   100] loss: 0.133\n",
      "[12,   200] loss: 0.147\n",
      "[12,   300] loss: 0.131\n",
      "[12,   400] loss: 0.109\n",
      "[12,   500] loss: 0.109\n",
      "Learning rate : 0.00025\n",
      "Train accuracy: 0.9586893320083618, validation accuracy : 0.9839736819267273\n",
      "Epoch duration : 37.35542583465576\n",
      "[13,   100] loss: 0.115\n",
      "[13,   200] loss: 0.136\n",
      "[13,   300] loss: 0.142\n",
      "[13,   400] loss: 0.107\n",
      "[13,   500] loss: 0.116\n",
      "Learning rate : 0.000125\n",
      "Train accuracy: 0.9580404758453369, validation accuracy : 0.9859495162963867\n",
      "Epoch duration : 37.37329053878784\n",
      "[14,   100] loss: 0.139\n",
      "[14,   200] loss: 0.104\n",
      "[14,   300] loss: 0.119\n",
      "[14,   400] loss: 0.123\n",
      "[14,   500] loss: 0.137\n",
      "Learning rate : 6.25e-05\n",
      "Train accuracy: 0.9596626162528992, validation accuracy : 0.9848518371582031\n",
      "Epoch duration : 37.280181646347046\n",
      "[15,   100] loss: 0.105\n",
      "[15,   200] loss: 0.129\n",
      "[15,   300] loss: 0.119\n",
      "[15,   400] loss: 0.116\n",
      "[15,   500] loss: 0.113\n",
      "Learning rate : 6.25e-05\n",
      "Train accuracy: 0.9611766338348389, validation accuracy : 0.9868276715278625\n",
      "Epoch duration : 37.36794877052307\n",
      "[16,   100] loss: 0.124\n",
      "[16,   200] loss: 0.111\n",
      "[16,   300] loss: 0.113\n",
      "[16,   400] loss: 0.114\n",
      "[16,   500] loss: 0.094\n",
      "Learning rate : 6.25e-05\n",
      "Train accuracy: 0.9640964865684509, validation accuracy : 0.9855104088783264\n",
      "Epoch duration : 37.44201302528381\n",
      "[17,   100] loss: 0.123\n",
      "[17,   200] loss: 0.127\n",
      "[17,   300] loss: 0.107\n",
      "[17,   400] loss: 0.121\n",
      "[17,   500] loss: 0.117\n",
      "Learning rate : 3.125e-05\n",
      "Train accuracy: 0.9596626162528992, validation accuracy : 0.9866081476211548\n",
      "Epoch duration : 37.265804052352905\n",
      "[18,   100] loss: 0.112\n",
      "[18,   200] loss: 0.101\n",
      "[18,   300] loss: 0.115\n",
      "[18,   400] loss: 0.117\n",
      "[18,   500] loss: 0.116\n",
      "Learning rate : 1.5625e-05\n",
      "Train accuracy: 0.963880181312561, validation accuracy : 0.9846322536468506\n",
      "Epoch duration : 37.40510392189026\n",
      "[19,   100] loss: 0.106\n",
      "[19,   200] loss: 0.100\n",
      "[19,   300] loss: 0.108\n",
      "[19,   400] loss: 0.097\n",
      "[19,   500] loss: 0.122\n",
      "Learning rate : 1.5625e-05\n",
      "Train accuracy: 0.9637720584869385, validation accuracy : 0.9846322536468506\n",
      "Epoch duration : 37.37220621109009\n",
      "[20,   100] loss: 0.092\n",
      "[20,   200] loss: 0.098\n",
      "[20,   300] loss: 0.132\n",
      "[20,   400] loss: 0.131\n",
      "[20,   500] loss: 0.120\n",
      "Learning rate : 7.8125e-06\n",
      "Train accuracy: 0.9618254899978638, validation accuracy : 0.9883644580841064\n",
      "Epoch duration : 37.310068130493164\n",
      "[21,   100] loss: 0.143\n",
      "[21,   200] loss: 0.121\n",
      "[21,   300] loss: 0.110\n",
      "[21,   400] loss: 0.101\n",
      "[21,   500] loss: 0.106\n",
      "Learning rate : 3.90625e-06\n",
      "Train accuracy: 0.9611766338348389, validation accuracy : 0.9879253506660461\n",
      "Epoch duration : 37.2561616897583\n",
      "[22,   100] loss: 0.121\n",
      "[22,   200] loss: 0.109\n",
      "[22,   300] loss: 0.118\n",
      "[22,   400] loss: 0.100\n",
      "[22,   500] loss: 0.115\n",
      "Learning rate : 1.953125e-06\n",
      "Train accuracy: 0.9612847566604614, validation accuracy : 0.9877058267593384\n",
      "Epoch duration : 37.29553818702698\n",
      "[23,   100] loss: 0.099\n",
      "[23,   200] loss: 0.109\n",
      "[23,   300] loss: 0.107\n",
      "[23,   400] loss: 0.104\n",
      "[23,   500] loss: 0.127\n",
      "Learning rate : 1.953125e-06\n",
      "Train accuracy: 0.9651778936386108, validation accuracy : 0.9852908849716187\n",
      "Epoch duration : 37.27308654785156\n",
      "[24,   100] loss: 0.096\n",
      "[24,   200] loss: 0.129\n",
      "[24,   300] loss: 0.121\n",
      "[24,   400] loss: 0.097\n",
      "[24,   500] loss: 0.106\n",
      "Learning rate : 9.765625e-07\n",
      "Train accuracy: 0.9623661637306213, validation accuracy : 0.9861690402030945\n",
      "Epoch duration : 37.33926868438721\n",
      "[25,   100] loss: 0.117\n",
      "[25,   200] loss: 0.100\n",
      "[25,   300] loss: 0.105\n",
      "[25,   400] loss: 0.108\n",
      "[25,   500] loss: 0.095\n",
      "Learning rate : 4.8828125e-07\n",
      "Train accuracy: 0.963015079498291, validation accuracy : 0.9861690402030945\n",
      "Epoch duration : 37.31980609893799\n",
      "[26,   100] loss: 0.142\n",
      "[26,   200] loss: 0.104\n",
      "[26,   300] loss: 0.107\n",
      "[26,   400] loss: 0.099\n",
      "[26,   500] loss: 0.126\n",
      "Learning rate : 2.44140625e-07\n",
      "Train accuracy: 0.9607440233230591, validation accuracy : 0.9852908849716187\n",
      "Epoch duration : 37.318334341049194\n",
      "[27,   100] loss: 0.136\n",
      "[27,   200] loss: 0.089\n",
      "[27,   300] loss: 0.138\n",
      "[27,   400] loss: 0.116\n",
      "[27,   500] loss: 0.121\n",
      "Learning rate : 1.220703125e-07\n",
      "Train accuracy: 0.9620417356491089, validation accuracy : 0.9846322536468506\n",
      "Epoch duration : 37.36035227775574\n",
      "[28,   100] loss: 0.109\n",
      "[28,   200] loss: 0.105\n",
      "[28,   300] loss: 0.099\n",
      "[28,   400] loss: 0.092\n",
      "[28,   500] loss: 0.115\n",
      "Learning rate : 1.220703125e-07\n",
      "Train accuracy: 0.9650697708129883, validation accuracy : 0.9852908849716187\n",
      "Epoch duration : 37.31140995025635\n",
      "[29,   100] loss: 0.096\n",
      "[29,   200] loss: 0.103\n",
      "[29,   300] loss: 0.125\n",
      "[29,   400] loss: 0.107\n",
      "[29,   500] loss: 0.101\n",
      "Learning rate : 6.103515625e-08\n",
      "Train accuracy: 0.9655023217201233, validation accuracy : 0.9868276715278625\n",
      "Epoch duration : 37.296630859375\n",
      "[30,   100] loss: 0.110\n",
      "[30,   200] loss: 0.112\n",
      "[30,   300] loss: 0.118\n",
      "[30,   400] loss: 0.115\n",
      "[30,   500] loss: 0.108\n",
      "Learning rate : 3.0517578125e-08\n",
      "Train accuracy: 0.9627987742424011, validation accuracy : 0.9872667193412781\n",
      "Epoch duration : 37.293128967285156\n"
     ]
    }
   ],
   "source": [
    "import matplotlib.pyplot as plt\n",
    "\n",
    "num_epochs = 30\n",
    "resnext, loss_vals, train_acc_vals, val_acc_vals = train(resnext, train_loader, val_loader, criterion, optimizer, scheduler, num_epochs=num_epochs, input_type='image')"
   ]
  },
  {
   "cell_type": "code",
   "execution_count": 13,
   "metadata": {
    "papermill": {
     "duration": 0.675161,
     "end_time": "2021-03-05T22:28:19.887108",
     "exception": false,
     "start_time": "2021-03-05T22:28:19.211947",
     "status": "completed"
    },
    "tags": []
   },
   "outputs": [
    {
     "data": {
      "image/png": "[encoded data removed]",
      "text/plain": [
       "<Figure size 432x288 with 2 Axes>"
      ]
     },
     "metadata": {
      "needs_background": "light"
     },
     "output_type": "display_data"
    }
   ],
   "source": [
    "plt.subplot(1,2,1)\n",
    "plt.plot(loss_vals)\n",
    "plt.title('Loss')\n",
    "plt.subplot(1,2,2)\n",
    "plt.plot(train_acc_vals, label='Training accuracy')\n",
    "plt.plot(val_acc_vals, label='Validation accuracy')\n",
    "plt.title('Accuracy')\n",
    "plt.legend()\n",
    "plt.tight_layout()"
   ]
  },
  {
   "cell_type": "markdown",
   "metadata": {},
   "source": [
    "On constate que la précision sur l'ensemble d'entraînement reste inférieure à la précision sur l'ensemble de validation. Cela est dû aux transformations aléatoires appliquées sur les exemples d'entraînement."
   ]
  },
  {
   "cell_type": "markdown",
   "metadata": {
    "papermill": {
     "duration": 0.097846,
     "end_time": "2021-03-05T22:28:20.346684",
     "exception": false,
     "start_time": "2021-03-05T22:28:20.248838",
     "status": "completed"
    },
    "tags": []
   },
   "source": [
    "Le code suivant permet de sauvegarder les coefficients du modèle, pour une utilisation ultérieure."
   ]
  },
  {
   "cell_type": "code",
   "execution_count": 14,
   "metadata": {
    "papermill": {
     "duration": 0.28583,
     "end_time": "2021-03-05T22:28:20.731771",
     "exception": false,
     "start_time": "2021-03-05T22:28:20.445941",
     "status": "completed"
    },
    "tags": []
   },
   "outputs": [],
   "source": [
    "torch.save(resnext.state_dict(), 'resnext.pt')"
   ]
  },
  {
   "cell_type": "markdown",
   "metadata": {
    "papermill": {
     "duration": 0.099356,
     "end_time": "2021-03-05T22:28:20.933337",
     "exception": false,
     "start_time": "2021-03-05T22:28:20.833981",
     "status": "completed"
    },
    "tags": []
   },
   "source": [
    "Le code suivant permet de charger les coefficients d'un modèle sauvegardé."
   ]
  },
  {
   "cell_type": "code",
   "execution_count": 15,
   "metadata": {
    "papermill": {
     "duration": 0.204605,
     "end_time": "2021-03-05T22:28:21.236713",
     "exception": false,
     "start_time": "2021-03-05T22:28:21.032108",
     "status": "completed"
    },
    "tags": []
   },
   "outputs": [
    {
     "data": {
      "text/plain": [
       "ResNet(\n",
       "  (conv1): Conv2d(3, 64, kernel_size=(7, 7), stride=(2, 2), padding=(3, 3), bias=False)\n",
       "  (bn1): BatchNorm2d(64, eps=1e-05, momentum=0.1, affine=True, track_running_stats=True)\n",
       "  (relu): ReLU(inplace=True)\n",
       "  (maxpool): MaxPool2d(kernel_size=3, stride=2, padding=1, dilation=1, ceil_mode=False)\n",
       "  (layer1): Sequential(\n",
       "    (0): Bottleneck(\n",
       "      (conv1): Conv2d(64, 128, kernel_size=(1, 1), stride=(1, 1), bias=False)\n",
       "      (bn1): BatchNorm2d(128, eps=1e-05, momentum=0.1, affine=True, track_running_stats=True)\n",
       "      (conv2): Conv2d(128, 128, kernel_size=(3, 3), stride=(1, 1), padding=(1, 1), groups=32, bias=False)\n",
       "      (bn2): BatchNorm2d(128, eps=1e-05, momentum=0.1, affine=True, track_running_stats=True)\n",
       "      (conv3): Conv2d(128, 256, kernel_size=(1, 1), stride=(1, 1), bias=False)\n",
       "      (bn3): BatchNorm2d(256, eps=1e-05, momentum=0.1, affine=True, track_running_stats=True)\n",
       "      (relu): ReLU(inplace=True)\n",
       "      (downsample): Sequential(\n",
       "        (0): Conv2d(64, 256, kernel_size=(1, 1), stride=(1, 1), bias=False)\n",
       "        (1): BatchNorm2d(256, eps=1e-05, momentum=0.1, affine=True, track_running_stats=True)\n",
       "      )\n",
       "    )\n",
       "    (1): Bottleneck(\n",
       "      (conv1): Conv2d(256, 128, kernel_size=(1, 1), stride=(1, 1), bias=False)\n",
       "      (bn1): BatchNorm2d(128, eps=1e-05, momentum=0.1, affine=True, track_running_stats=True)\n",
       "      (conv2): Conv2d(128, 128, kernel_size=(3, 3), stride=(1, 1), padding=(1, 1), groups=32, bias=False)\n",
       "      (bn2): BatchNorm2d(128, eps=1e-05, momentum=0.1, affine=True, track_running_stats=True)\n",
       "      (conv3): Conv2d(128, 256, kernel_size=(1, 1), stride=(1, 1), bias=False)\n",
       "      (bn3): BatchNorm2d(256, eps=1e-05, momentum=0.1, affine=True, track_running_stats=True)\n",
       "      (relu): ReLU(inplace=True)\n",
       "    )\n",
       "    (2): Bottleneck(\n",
       "      (conv1): Conv2d(256, 128, kernel_size=(1, 1), stride=(1, 1), bias=False)\n",
       "      (bn1): BatchNorm2d(128, eps=1e-05, momentum=0.1, affine=True, track_running_stats=True)\n",
       "      (conv2): Conv2d(128, 128, kernel_size=(3, 3), stride=(1, 1), padding=(1, 1), groups=32, bias=False)\n",
       "      (bn2): BatchNorm2d(128, eps=1e-05, momentum=0.1, affine=True, track_running_stats=True)\n",
       "      (conv3): Conv2d(128, 256, kernel_size=(1, 1), stride=(1, 1), bias=False)\n",
       "      (bn3): BatchNorm2d(256, eps=1e-05, momentum=0.1, affine=True, track_running_stats=True)\n",
       "      (relu): ReLU(inplace=True)\n",
       "    )\n",
       "  )\n",
       "  (layer2): Sequential(\n",
       "    (0): Bottleneck(\n",
       "      (conv1): Conv2d(256, 256, kernel_size=(1, 1), stride=(1, 1), bias=False)\n",
       "      (bn1): BatchNorm2d(256, eps=1e-05, momentum=0.1, affine=True, track_running_stats=True)\n",
       "      (conv2): Conv2d(256, 256, kernel_size=(3, 3), stride=(2, 2), padding=(1, 1), groups=32, bias=False)\n",
       "      (bn2): BatchNorm2d(256, eps=1e-05, momentum=0.1, affine=True, track_running_stats=True)\n",
       "      (conv3): Conv2d(256, 512, kernel_size=(1, 1), stride=(1, 1), bias=False)\n",
       "      (bn3): BatchNorm2d(512, eps=1e-05, momentum=0.1, affine=True, track_running_stats=True)\n",
       "      (relu): ReLU(inplace=True)\n",
       "      (downsample): Sequential(\n",
       "        (0): Conv2d(256, 512, kernel_size=(1, 1), stride=(2, 2), bias=False)\n",
       "        (1): BatchNorm2d(512, eps=1e-05, momentum=0.1, affine=True, track_running_stats=True)\n",
       "      )\n",
       "    )\n",
       "    (1): Bottleneck(\n",
       "      (conv1): Conv2d(512, 256, kernel_size=(1, 1), stride=(1, 1), bias=False)\n",
       "      (bn1): BatchNorm2d(256, eps=1e-05, momentum=0.1, affine=True, track_running_stats=True)\n",
       "      (conv2): Conv2d(256, 256, kernel_size=(3, 3), stride=(1, 1), padding=(1, 1), groups=32, bias=False)\n",
       "      (bn2): BatchNorm2d(256, eps=1e-05, momentum=0.1, affine=True, track_running_stats=True)\n",
       "      (conv3): Conv2d(256, 512, kernel_size=(1, 1), stride=(1, 1), bias=False)\n",
       "      (bn3): BatchNorm2d(512, eps=1e-05, momentum=0.1, affine=True, track_running_stats=True)\n",
       "      (relu): ReLU(inplace=True)\n",
       "    )\n",
       "    (2): Bottleneck(\n",
       "      (conv1): Conv2d(512, 256, kernel_size=(1, 1), stride=(1, 1), bias=False)\n",
       "      (bn1): BatchNorm2d(256, eps=1e-05, momentum=0.1, affine=True, track_running_stats=True)\n",
       "      (conv2): Conv2d(256, 256, kernel_size=(3, 3), stride=(1, 1), padding=(1, 1), groups=32, bias=False)\n",
       "      (bn2): BatchNorm2d(256, eps=1e-05, momentum=0.1, affine=True, track_running_stats=True)\n",
       "      (conv3): Conv2d(256, 512, kernel_size=(1, 1), stride=(1, 1), bias=False)\n",
       "      (bn3): BatchNorm2d(512, eps=1e-05, momentum=0.1, affine=True, track_running_stats=True)\n",
       "      (relu): ReLU(inplace=True)\n",
       "    )\n",
       "    (3): Bottleneck(\n",
       "      (conv1): Conv2d(512, 256, kernel_size=(1, 1), stride=(1, 1), bias=False)\n",
       "      (bn1): BatchNorm2d(256, eps=1e-05, momentum=0.1, affine=True, track_running_stats=True)\n",
       "      (conv2): Conv2d(256, 256, kernel_size=(3, 3), stride=(1, 1), padding=(1, 1), groups=32, bias=False)\n",
       "      (bn2): BatchNorm2d(256, eps=1e-05, momentum=0.1, affine=True, track_running_stats=True)\n",
       "      (conv3): Conv2d(256, 512, kernel_size=(1, 1), stride=(1, 1), bias=False)\n",
       "      (bn3): BatchNorm2d(512, eps=1e-05, momentum=0.1, affine=True, track_running_stats=True)\n",
       "      (relu): ReLU(inplace=True)\n",
       "    )\n",
       "  )\n",
       "  (layer3): Sequential(\n",
       "    (0): Bottleneck(\n",
       "      (conv1): Conv2d(512, 512, kernel_size=(1, 1), stride=(1, 1), bias=False)\n",
       "      (bn1): BatchNorm2d(512, eps=1e-05, momentum=0.1, affine=True, track_running_stats=True)\n",
       "      (conv2): Conv2d(512, 512, kernel_size=(3, 3), stride=(2, 2), padding=(1, 1), groups=32, bias=False)\n",
       "      (bn2): BatchNorm2d(512, eps=1e-05, momentum=0.1, affine=True, track_running_stats=True)\n",
       "      (conv3): Conv2d(512, 1024, kernel_size=(1, 1), stride=(1, 1), bias=False)\n",
       "      (bn3): BatchNorm2d(1024, eps=1e-05, momentum=0.1, affine=True, track_running_stats=True)\n",
       "      (relu): ReLU(inplace=True)\n",
       "      (downsample): Sequential(\n",
       "        (0): Conv2d(512, 1024, kernel_size=(1, 1), stride=(2, 2), bias=False)\n",
       "        (1): BatchNorm2d(1024, eps=1e-05, momentum=0.1, affine=True, track_running_stats=True)\n",
       "      )\n",
       "    )\n",
       "    (1): Bottleneck(\n",
       "      (conv1): Conv2d(1024, 512, kernel_size=(1, 1), stride=(1, 1), bias=False)\n",
       "      (bn1): BatchNorm2d(512, eps=1e-05, momentum=0.1, affine=True, track_running_stats=True)\n",
       "      (conv2): Conv2d(512, 512, kernel_size=(3, 3), stride=(1, 1), padding=(1, 1), groups=32, bias=False)\n",
       "      (bn2): BatchNorm2d(512, eps=1e-05, momentum=0.1, affine=True, track_running_stats=True)\n",
       "      (conv3): Conv2d(512, 1024, kernel_size=(1, 1), stride=(1, 1), bias=False)\n",
       "      (bn3): BatchNorm2d(1024, eps=1e-05, momentum=0.1, affine=True, track_running_stats=True)\n",
       "      (relu): ReLU(inplace=True)\n",
       "    )\n",
       "    (2): Bottleneck(\n",
       "      (conv1): Conv2d(1024, 512, kernel_size=(1, 1), stride=(1, 1), bias=False)\n",
       "      (bn1): BatchNorm2d(512, eps=1e-05, momentum=0.1, affine=True, track_running_stats=True)\n",
       "      (conv2): Conv2d(512, 512, kernel_size=(3, 3), stride=(1, 1), padding=(1, 1), groups=32, bias=False)\n",
       "      (bn2): BatchNorm2d(512, eps=1e-05, momentum=0.1, affine=True, track_running_stats=True)\n",
       "      (conv3): Conv2d(512, 1024, kernel_size=(1, 1), stride=(1, 1), bias=False)\n",
       "      (bn3): BatchNorm2d(1024, eps=1e-05, momentum=0.1, affine=True, track_running_stats=True)\n",
       "      (relu): ReLU(inplace=True)\n",
       "    )\n",
       "    (3): Bottleneck(\n",
       "      (conv1): Conv2d(1024, 512, kernel_size=(1, 1), stride=(1, 1), bias=False)\n",
       "      (bn1): BatchNorm2d(512, eps=1e-05, momentum=0.1, affine=True, track_running_stats=True)\n",
       "      (conv2): Conv2d(512, 512, kernel_size=(3, 3), stride=(1, 1), padding=(1, 1), groups=32, bias=False)\n",
       "      (bn2): BatchNorm2d(512, eps=1e-05, momentum=0.1, affine=True, track_running_stats=True)\n",
       "      (conv3): Conv2d(512, 1024, kernel_size=(1, 1), stride=(1, 1), bias=False)\n",
       "      (bn3): BatchNorm2d(1024, eps=1e-05, momentum=0.1, affine=True, track_running_stats=True)\n",
       "      (relu): ReLU(inplace=True)\n",
       "    )\n",
       "    (4): Bottleneck(\n",
       "      (conv1): Conv2d(1024, 512, kernel_size=(1, 1), stride=(1, 1), bias=False)\n",
       "      (bn1): BatchNorm2d(512, eps=1e-05, momentum=0.1, affine=True, track_running_stats=True)\n",
       "      (conv2): Conv2d(512, 512, kernel_size=(3, 3), stride=(1, 1), padding=(1, 1), groups=32, bias=False)\n",
       "      (bn2): BatchNorm2d(512, eps=1e-05, momentum=0.1, affine=True, track_running_stats=True)\n",
       "      (conv3): Conv2d(512, 1024, kernel_size=(1, 1), stride=(1, 1), bias=False)\n",
       "      (bn3): BatchNorm2d(1024, eps=1e-05, momentum=0.1, affine=True, track_running_stats=True)\n",
       "      (relu): ReLU(inplace=True)\n",
       "    )\n",
       "    (5): Bottleneck(\n",
       "      (conv1): Conv2d(1024, 512, kernel_size=(1, 1), stride=(1, 1), bias=False)\n",
       "      (bn1): BatchNorm2d(512, eps=1e-05, momentum=0.1, affine=True, track_running_stats=True)\n",
       "      (conv2): Conv2d(512, 512, kernel_size=(3, 3), stride=(1, 1), padding=(1, 1), groups=32, bias=False)\n",
       "      (bn2): BatchNorm2d(512, eps=1e-05, momentum=0.1, affine=True, track_running_stats=True)\n",
       "      (conv3): Conv2d(512, 1024, kernel_size=(1, 1), stride=(1, 1), bias=False)\n",
       "      (bn3): BatchNorm2d(1024, eps=1e-05, momentum=0.1, affine=True, track_running_stats=True)\n",
       "      (relu): ReLU(inplace=True)\n",
       "    )\n",
       "  )\n",
       "  (layer4): Sequential(\n",
       "    (0): Bottleneck(\n",
       "      (conv1): Conv2d(1024, 1024, kernel_size=(1, 1), stride=(1, 1), bias=False)\n",
       "      (bn1): BatchNorm2d(1024, eps=1e-05, momentum=0.1, affine=True, track_running_stats=True)\n",
       "      (conv2): Conv2d(1024, 1024, kernel_size=(3, 3), stride=(2, 2), padding=(1, 1), groups=32, bias=False)\n",
       "      (bn2): BatchNorm2d(1024, eps=1e-05, momentum=0.1, affine=True, track_running_stats=True)\n",
       "      (conv3): Conv2d(1024, 2048, kernel_size=(1, 1), stride=(1, 1), bias=False)\n",
       "      (bn3): BatchNorm2d(2048, eps=1e-05, momentum=0.1, affine=True, track_running_stats=True)\n",
       "      (relu): ReLU(inplace=True)\n",
       "      (downsample): Sequential(\n",
       "        (0): Conv2d(1024, 2048, kernel_size=(1, 1), stride=(2, 2), bias=False)\n",
       "        (1): BatchNorm2d(2048, eps=1e-05, momentum=0.1, affine=True, track_running_stats=True)\n",
       "      )\n",
       "    )\n",
       "    (1): Bottleneck(\n",
       "      (conv1): Conv2d(2048, 1024, kernel_size=(1, 1), stride=(1, 1), bias=False)\n",
       "      (bn1): BatchNorm2d(1024, eps=1e-05, momentum=0.1, affine=True, track_running_stats=True)\n",
       "      (conv2): Conv2d(1024, 1024, kernel_size=(3, 3), stride=(1, 1), padding=(1, 1), groups=32, bias=False)\n",
       "      (bn2): BatchNorm2d(1024, eps=1e-05, momentum=0.1, affine=True, track_running_stats=True)\n",
       "      (conv3): Conv2d(1024, 2048, kernel_size=(1, 1), stride=(1, 1), bias=False)\n",
       "      (bn3): BatchNorm2d(2048, eps=1e-05, momentum=0.1, affine=True, track_running_stats=True)\n",
       "      (relu): ReLU(inplace=True)\n",
       "    )\n",
       "    (2): Bottleneck(\n",
       "      (conv1): Conv2d(2048, 1024, kernel_size=(1, 1), stride=(1, 1), bias=False)\n",
       "      (bn1): BatchNorm2d(1024, eps=1e-05, momentum=0.1, affine=True, track_running_stats=True)\n",
       "      (conv2): Conv2d(1024, 1024, kernel_size=(3, 3), stride=(1, 1), padding=(1, 1), groups=32, bias=False)\n",
       "      (bn2): BatchNorm2d(1024, eps=1e-05, momentum=0.1, affine=True, track_running_stats=True)\n",
       "      (conv3): Conv2d(1024, 2048, kernel_size=(1, 1), stride=(1, 1), bias=False)\n",
       "      (bn3): BatchNorm2d(2048, eps=1e-05, momentum=0.1, affine=True, track_running_stats=True)\n",
       "      (relu): ReLU(inplace=True)\n",
       "    )\n",
       "  )\n",
       "  (avgpool): AdaptiveAvgPool2d(output_size=(1, 1))\n",
       "  (fc): Linear(in_features=2048, out_features=9, bias=True)\n",
       ")"
      ]
     },
     "execution_count": 15,
     "metadata": {},
     "output_type": "execute_result"
    }
   ],
   "source": [
    "resnext.load_state_dict(torch.load('resnext.pt'))\n",
    "resnext.eval()"
   ]
  },
  {
   "cell_type": "markdown",
   "metadata": {
    "papermill": {
     "duration": 0.099023,
     "end_time": "2021-03-05T22:28:21.43485",
     "exception": false,
     "start_time": "2021-03-05T22:28:21.335827",
     "status": "completed"
    },
    "tags": []
   },
   "source": [
    "## Audio"
   ]
  },
  {
   "cell_type": "markdown",
   "metadata": {},
   "source": [
    "A chaque scène est associé l'équivalent d'une seconde de données audio, sous forme de coefficients MFCC. Il y a 104 coefficients par scène, qu'on peut diviser en 8 groupes de 13, chaque groupe correspondant à une fenêtre de 0.25 secondes (les fenêtres se chevauchent). On dispose donc d'informations en temps/fréquence."
   ]
  },
  {
   "cell_type": "markdown",
   "metadata": {},
   "source": [
    "Visualisons quelques histogrammes des données audio :"
   ]
  },
  {
   "cell_type": "code",
   "execution_count": 16,
   "metadata": {},
   "outputs": [
    {
     "data": {
      "image/png": "[encoded data removed]",
      "text/plain": [
       "<Figure size 432x288 with 4 Axes>"
      ]
     },
     "metadata": {
      "needs_background": "light"
     },
     "output_type": "display_data"
    }
   ],
   "source": [
    "import matplotlib.pyplot as plt\n",
    "\n",
    "plt.subplot(2,2,1)\n",
    "plt.hist(audio[::,0])\n",
    "plt.title('mfcc_1')\n",
    "plt.subplot(2,2,2)\n",
    "plt.hist(audio[::,1])\n",
    "plt.title('mfcc_2')\n",
    "plt.subplot(2,2,3)\n",
    "plt.hist(audio[::,2])\n",
    "plt.title('mfcc_3')\n",
    "plt.subplot(2,2,4)\n",
    "plt.hist(audio[::,3])\n",
    "plt.title('mfcc_4')\n",
    "plt.tight_layout()"
   ]
  },
  {
   "cell_type": "markdown",
   "metadata": {},
   "source": [
    "On choisit d'utiliser un réseau de neurones de type MLP, puisque la nature des données s'y prête et que c'est facile à implémenter."
   ]
  },
  {
   "cell_type": "markdown",
   "metadata": {},
   "source": [
    "Puisque l'on utilise un réseau de neurone, il est utile de normaliser les donner. Cela permet de faciliter la convergence de l'entraînement."
   ]
  },
  {
   "cell_type": "code",
   "execution_count": 17,
   "metadata": {},
   "outputs": [],
   "source": [
    "def normalize(data):\n",
    "    return (data - np.mean(data, axis=0))/np.std(data, axis=0)\n",
    "audio_train = normalize(audio_train)\n",
    "audio_val = normalize(audio_val)"
   ]
  },
  {
   "cell_type": "markdown",
   "metadata": {},
   "source": [
    " On utilise un MLP à 3 couches cachées, avec activation Leaky RELU, et régularisation par batch normalization. Notre première approche utilisait seulement une couche cachée, mais après ajout de techniques pour limiter le surapprentissage comme la batch normalization ou les transformations de données aléatoire on a pu rajouter des couches et augmenter les performances."
   ]
  },
  {
   "cell_type": "code",
   "execution_count": 18,
   "metadata": {
    "papermill": {
     "duration": 0.114142,
     "end_time": "2021-03-05T22:28:21.648301",
     "exception": false,
     "start_time": "2021-03-05T22:28:21.534159",
     "status": "completed"
    },
    "tags": []
   },
   "outputs": [],
   "source": [
    "class MLP(nn.Module):\n",
    "    def __init__(self):\n",
    "        super(MLP, self).__init__()\n",
    "        \n",
    "        self.linear1 = nn.Linear(104, 156)\n",
    "        self.bn1 = nn.BatchNorm1d(156)\n",
    "        \n",
    "        self.linear2 = nn.Linear(156, 208)\n",
    "        self.bn2 = nn.BatchNorm1d(208)\n",
    "        \n",
    "        self.linear3 = nn.Linear(208, 156)\n",
    "        self.bn3 = nn.BatchNorm1d(156)\n",
    "        \n",
    "        self.linear4 = nn.Linear(156, 104)\n",
    "        self.bn4 = nn.BatchNorm1d(104)\n",
    "        \n",
    "        self.linear5 = nn.Linear(104, 64)\n",
    "        self.bn5 = nn.BatchNorm1d(64)\n",
    "\n",
    "\n",
    "        self.final = nn.Linear(64,9)\n",
    "      \n",
    "    def forward(self, x):\n",
    "        x = F.leaky_relu(self.bn1(self.linear1(x)))\n",
    "        x = F.leaky_relu(self.bn2(self.linear2(x)))\n",
    "        x = F.leaky_relu(self.bn3(self.linear3(x)))\n",
    "        x = F.leaky_relu(self.bn4(self.linear4(x)))\n",
    "        x = F.leaky_relu(self.bn5(self.linear5(x)))\n",
    "\n",
    "        x = self.final(x)\n",
    "        return x\n",
    "\n",
    "mlp = MLP().cuda()"
   ]
  },
  {
   "cell_type": "markdown",
   "metadata": {
    "papermill": {
     "duration": 0.100093,
     "end_time": "2021-03-05T22:28:21.849067",
     "exception": false,
     "start_time": "2021-03-05T22:28:21.748974",
     "status": "completed"
    },
    "tags": []
   },
   "source": [
    "Pour limiter le surapprentissage, on peut faire des transformations aléatoires sur les données d'entraînement. Une première idée est d'ajouter un bruit blanc gaussien au données."
   ]
  },
  {
   "cell_type": "code",
   "execution_count": 19,
   "metadata": {
    "papermill": {
     "duration": 0.107693,
     "end_time": "2021-03-05T22:28:22.056671",
     "exception": false,
     "start_time": "2021-03-05T22:28:21.948978",
     "status": "completed"
    },
    "tags": []
   },
   "outputs": [],
   "source": [
    "class AddGaussianNoise:\n",
    "    def __init__(self, mean=0., std=1.):\n",
    "        self.std = std\n",
    "        self.mean = mean\n",
    "        \n",
    "    def __call__(self, tensor):\n",
    "        return tensor + torch.randn(tensor.size()) * self.std + self.mean\n",
    "    \n",
    "    def __repr__(self):\n",
    "        return self.__class__.__name__ + '(mean={0}, std={1})'.format(self.mean, self.std)"
   ]
  },
  {
   "cell_type": "markdown",
   "metadata": {},
   "source": [
    "Une autre idée, tirant partie de la nature des données, est d'opérer des décalages circulaires aléatoires des fenêtres temporelles."
   ]
  },
  {
   "cell_type": "code",
   "execution_count": 20,
   "metadata": {},
   "outputs": [],
   "source": [
    "class RandomCircularShift:      \n",
    "    def __call__(self, tensor):\n",
    "        return torch.roll(tensor, 13*np.random.randint(8),dims=0)"
   ]
  },
  {
   "cell_type": "markdown",
   "metadata": {},
   "source": [
    "Ces transformations seront faites à chaque epoch, si bien que le réseau ne verra jamais deux fois les mêmes données lors de l'entraînement."
   ]
  },
  {
   "cell_type": "markdown",
   "metadata": {},
   "source": [
    "Sur Windows, il faut mettre les classes des transformations dans un fichier Python à part."
   ]
  },
  {
   "cell_type": "code",
   "execution_count": 21,
   "metadata": {},
   "outputs": [],
   "source": [
    "if os.name == 'nt':\n",
    "    from transforms import AddGaussianNoise, RandomCircularShift"
   ]
  },
  {
   "cell_type": "markdown",
   "metadata": {
    "papermill": {
     "duration": 0.099104,
     "end_time": "2021-03-05T22:28:22.255662",
     "exception": false,
     "start_time": "2021-03-05T22:28:22.156558",
     "status": "completed"
    },
    "tags": []
   },
   "source": [
    "On crée les datasets et data loaders avec les transformations que l'on a définies."
   ]
  },
  {
   "cell_type": "code",
   "execution_count": 22,
   "metadata": {
    "papermill": {
     "duration": 0.109465,
     "end_time": "2021-03-05T22:28:22.464287",
     "exception": false,
     "start_time": "2021-03-05T22:28:22.354822",
     "status": "completed"
    },
    "tags": []
   },
   "outputs": [],
   "source": [
    "import torchvision\n",
    "\n",
    "\n",
    "audio_transform = torchvision.transforms.Compose([\n",
    "    torch.from_numpy,\n",
    "    AddGaussianNoise(0.0, 0.1),\n",
    "    RandomCircularShift(),\n",
    "])\n",
    "\n",
    "train_dataset = ImageAudioDataset(root_dir=f'{datadir}/data/data/',\n",
    "                           files=img_train,\n",
    "                                 audio=audio_train,\n",
    "                                 labels=y_train,\n",
    "                          img_transform=img_train_transform,\n",
    "                                 audio_transform=audio_transform)\n",
    "train_loader = DataLoader(train_dataset, batch_size=16, shuffle=True, num_workers=4, pin_memory=True)\n",
    "\n",
    "val_dataset = ImageAudioDataset(root_dir=f'{datadir}/data/data/',\n",
    "                           files=img_val,\n",
    "                           audio=audio_val,\n",
    "                           labels=y_val,\n",
    "                          img_transform=img_val_transform,\n",
    "                             audio_transform=audio_transform)\n",
    "val_loader = DataLoader(val_dataset, batch_size=64, shuffle=True, num_workers=4, pin_memory=True)"
   ]
  },
  {
   "cell_type": "markdown",
   "metadata": {
    "papermill": {
     "duration": 0.099752,
     "end_time": "2021-03-05T22:28:22.663279",
     "exception": false,
     "start_time": "2021-03-05T22:28:22.563527",
     "status": "completed"
    },
    "tags": []
   },
   "source": [
    "Les mêmes paramètres que pour le classifieur d'image donnent les meilleurs résultats."
   ]
  },
  {
   "cell_type": "code",
   "execution_count": 23,
   "metadata": {
    "papermill": {
     "duration": 0.108307,
     "end_time": "2021-03-05T22:28:22.869296",
     "exception": false,
     "start_time": "2021-03-05T22:28:22.760989",
     "status": "completed"
    },
    "tags": []
   },
   "outputs": [],
   "source": [
    "optimizer = optim.Adam(mlp.parameters(), lr=0.001)\n",
    "criterion = nn.CrossEntropyLoss()\n",
    "scheduler = lr_scheduler.ReduceLROnPlateau(optimizer, patience=0,factor=0.5)"
   ]
  },
  {
   "cell_type": "code",
   "execution_count": 24,
   "metadata": {
    "papermill": {
     "duration": 1832.683034,
     "end_time": "2021-03-05T22:58:55.652229",
     "exception": false,
     "start_time": "2021-03-05T22:28:22.969195",
     "status": "completed"
    },
    "tags": []
   },
   "outputs": [
    {
     "name": "stdout",
     "output_type": "stream",
     "text": [
      "[1,   100] loss: 1.438\n",
      "[1,   200] loss: 0.996\n",
      "[1,   300] loss: 0.808\n",
      "[1,   400] loss: 0.749\n",
      "[1,   500] loss: 0.643\n",
      "Learning rate : 0.001\n",
      "Train accuracy: 0.7175300121307373, validation accuracy : 0.882327139377594\n",
      "Epoch duration : 27.00717568397522\n",
      "[2,   100] loss: 0.592\n",
      "[2,   200] loss: 0.600\n",
      "[2,   300] loss: 0.551\n",
      "[2,   400] loss: 0.543\n",
      "[2,   500] loss: 0.516\n",
      "Learning rate : 0.001\n",
      "Train accuracy: 0.8242673277854919, validation accuracy : 0.9099889993667603\n",
      "Epoch duration : 26.890291213989258\n",
      "[3,   100] loss: 0.431\n",
      "[3,   200] loss: 0.464\n",
      "[3,   300] loss: 0.465\n",
      "[3,   400] loss: 0.468\n",
      "[3,   500] loss: 0.450\n",
      "Learning rate : 0.001\n",
      "Train accuracy: 0.8516275882720947, validation accuracy : 0.9207464456558228\n",
      "Epoch duration : 26.927522897720337\n",
      "[4,   100] loss: 0.408\n",
      "[4,   200] loss: 0.369\n",
      "[4,   300] loss: 0.406\n",
      "[4,   400] loss: 0.400\n",
      "[4,   500] loss: 0.383\n",
      "Learning rate : 0.001\n",
      "Train accuracy: 0.8696874976158142, validation accuracy : 0.9238199591636658\n",
      "Epoch duration : 27.052207946777344\n",
      "[5,   100] loss: 0.341\n",
      "[5,   200] loss: 0.397\n",
      "[5,   300] loss: 0.351\n",
      "[5,   400] loss: 0.386\n",
      "[5,   500] loss: 0.335\n",
      "Learning rate : 0.001\n",
      "Train accuracy: 0.8779063820838928, validation accuracy : 0.9308452010154724\n",
      "Epoch duration : 26.88573932647705\n",
      "[6,   100] loss: 0.333\n",
      "[6,   200] loss: 0.299\n",
      "[6,   300] loss: 0.333\n",
      "[6,   400] loss: 0.339\n",
      "[6,   500] loss: 0.346\n",
      "Learning rate : 0.001\n",
      "Train accuracy: 0.8877474069595337, validation accuracy : 0.9356750845909119\n",
      "Epoch duration : 26.901877641677856\n",
      "[7,   100] loss: 0.361\n",
      "[7,   200] loss: 0.324\n",
      "[7,   300] loss: 0.314\n",
      "[7,   400] loss: 0.331\n",
      "[7,   500] loss: 0.359\n",
      "Learning rate : 0.001\n",
      "Train accuracy: 0.8895858526229858, validation accuracy : 0.9290888905525208\n",
      "Epoch duration : 26.915520429611206\n",
      "[8,   100] loss: 0.315\n",
      "[8,   200] loss: 0.294\n",
      "[8,   300] loss: 0.272\n",
      "[8,   400] loss: 0.340\n",
      "[8,   500] loss: 0.286\n",
      "Learning rate : 0.001\n",
      "Train accuracy: 0.9011571407318115, validation accuracy : 0.9354555606842041\n",
      "Epoch duration : 26.794763565063477\n",
      "[9,   100] loss: 0.250\n",
      "[9,   200] loss: 0.260\n",
      "[9,   300] loss: 0.303\n",
      "[9,   400] loss: 0.297\n",
      "[9,   500] loss: 0.348\n",
      "Learning rate : 0.001\n",
      "Train accuracy: 0.9064561724662781, validation accuracy : 0.9383095502853394\n",
      "Epoch duration : 26.956142902374268\n",
      "[10,   100] loss: 0.287\n",
      "[10,   200] loss: 0.299\n",
      "[10,   300] loss: 0.305\n",
      "[10,   400] loss: 0.283\n",
      "[10,   500] loss: 0.276\n",
      "Learning rate : 0.0005\n",
      "Train accuracy: 0.9021304249763489, validation accuracy : 0.942261278629303\n",
      "Epoch duration : 26.981399297714233\n",
      "[11,   100] loss: 0.266\n",
      "[11,   200] loss: 0.215\n",
      "[11,   300] loss: 0.253\n",
      "[11,   400] loss: 0.233\n",
      "[11,   500] loss: 0.189\n",
      "Learning rate : 0.0005\n",
      "Train accuracy: 0.921920657157898, validation accuracy : 0.9497255682945251\n",
      "Epoch duration : 26.98031711578369\n",
      "[12,   100] loss: 0.190\n",
      "[12,   200] loss: 0.238\n",
      "[12,   300] loss: 0.215\n",
      "[12,   400] loss: 0.189\n",
      "[12,   500] loss: 0.211\n",
      "Learning rate : 0.0005\n",
      "Train accuracy: 0.931329071521759, validation accuracy : 0.9510428309440613\n",
      "Epoch duration : 26.896749258041382\n",
      "[13,   100] loss: 0.236\n",
      "[13,   200] loss: 0.205\n",
      "[13,   300] loss: 0.219\n",
      "[13,   400] loss: 0.210\n",
      "[13,   500] loss: 0.207\n",
      "Learning rate : 0.00025\n",
      "Train accuracy: 0.9236509203910828, validation accuracy : 0.9576289653778076\n",
      "Epoch duration : 27.09127640724182\n",
      "[14,   100] loss: 0.215\n",
      "[14,   200] loss: 0.194\n",
      "[14,   300] loss: 0.214\n",
      "[14,   400] loss: 0.180\n",
      "[14,   500] loss: 0.204\n",
      "Learning rate : 0.00025\n",
      "Train accuracy: 0.9341408014297485, validation accuracy : 0.9591657519340515\n",
      "Epoch duration : 26.8693904876709\n",
      "[15,   100] loss: 0.199\n",
      "[15,   200] loss: 0.180\n",
      "[15,   300] loss: 0.164\n",
      "[15,   400] loss: 0.172\n",
      "[15,   500] loss: 0.189\n",
      "Learning rate : 0.00025\n",
      "Train accuracy: 0.9378176927566528, validation accuracy : 0.9534577131271362\n",
      "Epoch duration : 26.98320698738098\n",
      "[16,   100] loss: 0.216\n",
      "[16,   200] loss: 0.161\n",
      "[16,   300] loss: 0.170\n",
      "[16,   400] loss: 0.174\n",
      "[16,   500] loss: 0.165\n",
      "Learning rate : 0.00025\n",
      "Train accuracy: 0.9407375454902649, validation accuracy : 0.9600439071655273\n",
      "Epoch duration : 26.93634819984436\n",
      "[17,   100] loss: 0.157\n",
      "[17,   200] loss: 0.222\n",
      "[17,   300] loss: 0.172\n",
      "[17,   400] loss: 0.174\n",
      "[17,   500] loss: 0.187\n",
      "Learning rate : 0.000125\n",
      "Train accuracy: 0.9419271349906921, validation accuracy : 0.9602634310722351\n",
      "Epoch duration : 26.984187602996826\n",
      "[18,   100] loss: 0.157\n",
      "[18,   200] loss: 0.155\n",
      "[18,   300] loss: 0.151\n",
      "[18,   400] loss: 0.179\n",
      "[18,   500] loss: 0.162\n",
      "Learning rate : 0.000125\n",
      "Train accuracy: 0.9480912685394287, validation accuracy : 0.9628978967666626\n",
      "Epoch duration : 26.834107160568237\n",
      "[19,   100] loss: 0.140\n",
      "[19,   200] loss: 0.151\n",
      "[19,   300] loss: 0.158\n",
      "[19,   400] loss: 0.159\n",
      "[19,   500] loss: 0.175\n",
      "Learning rate : 0.000125\n",
      "Train accuracy: 0.946144700050354, validation accuracy : 0.9648737907409668\n",
      "Epoch duration : 26.866662740707397\n",
      "[20,   100] loss: 0.156\n",
      "[20,   200] loss: 0.161\n",
      "[20,   300] loss: 0.141\n",
      "[20,   400] loss: 0.164\n",
      "[20,   500] loss: 0.137\n",
      "Learning rate : 0.000125\n",
      "Train accuracy: 0.948632001876831, validation accuracy : 0.9624588489532471\n",
      "Epoch duration : 26.72426199913025\n",
      "[21,   100] loss: 0.143\n",
      "[21,   200] loss: 0.137\n",
      "[21,   300] loss: 0.152\n",
      "[21,   400] loss: 0.124\n",
      "[21,   500] loss: 0.149\n",
      "Learning rate : 0.000125\n",
      "Train accuracy: 0.9498215913772583, validation accuracy : 0.9631174802780151\n",
      "Epoch duration : 27.036028623580933\n",
      "[22,   100] loss: 0.127\n",
      "[22,   200] loss: 0.158\n",
      "[22,   300] loss: 0.147\n",
      "[22,   400] loss: 0.173\n",
      "[22,   500] loss: 0.146\n",
      "Learning rate : 6.25e-05\n",
      "Train accuracy: 0.9491727352142334, validation accuracy : 0.9703622460365295\n",
      "Epoch duration : 26.804095029830933\n",
      "[23,   100] loss: 0.129\n",
      "[23,   200] loss: 0.133\n",
      "[23,   300] loss: 0.142\n",
      "[23,   400] loss: 0.142\n",
      "[23,   500] loss: 0.144\n",
      "Learning rate : 6.25e-05\n",
      "Train accuracy: 0.9528495669364929, validation accuracy : 0.967069149017334\n",
      "Epoch duration : 26.735448122024536\n",
      "[24,   100] loss: 0.166\n",
      "[24,   200] loss: 0.140\n",
      "[24,   300] loss: 0.142\n",
      "[24,   400] loss: 0.142\n",
      "[24,   500] loss: 0.137\n",
      "Learning rate : 3.125e-05\n",
      "Train accuracy: 0.9507948756217957, validation accuracy : 0.9683864116668701\n",
      "Epoch duration : 26.744375705718994\n",
      "[25,   100] loss: 0.145\n",
      "[25,   200] loss: 0.147\n",
      "[25,   300] loss: 0.136\n",
      "[25,   400] loss: 0.133\n",
      "[25,   500] loss: 0.144\n",
      "Learning rate : 1.5625e-05\n",
      "Train accuracy: 0.9526333212852478, validation accuracy : 0.9672886729240417\n",
      "Epoch duration : 26.82614803314209\n",
      "[26,   100] loss: 0.147\n",
      "[26,   200] loss: 0.160\n",
      "[26,   300] loss: 0.149\n",
      "[26,   400] loss: 0.174\n",
      "[26,   500] loss: 0.137\n",
      "Learning rate : 7.8125e-06\n",
      "Train accuracy: 0.9504704475402832, validation accuracy : 0.9620197415351868\n",
      "Epoch duration : 26.87723159790039\n",
      "[27,   100] loss: 0.146\n",
      "[27,   200] loss: 0.171\n",
      "[27,   300] loss: 0.129\n",
      "[27,   400] loss: 0.126\n",
      "[27,   500] loss: 0.138\n",
      "Learning rate : 3.90625e-06\n",
      "Train accuracy: 0.9515518546104431, validation accuracy : 0.9686059355735779\n",
      "Epoch duration : 26.86478877067566\n",
      "[28,   100] loss: 0.130\n",
      "[28,   200] loss: 0.145\n",
      "[28,   300] loss: 0.144\n",
      "[28,   400] loss: 0.152\n",
      "[28,   500] loss: 0.125\n",
      "Learning rate : 3.90625e-06\n",
      "Train accuracy: 0.9532821774482727, validation accuracy : 0.9644346833229065\n",
      "Epoch duration : 26.946295022964478\n",
      "[29,   100] loss: 0.143\n",
      "[29,   200] loss: 0.151\n",
      "[29,   300] loss: 0.129\n",
      "[29,   400] loss: 0.129\n",
      "[29,   500] loss: 0.154\n",
      "Learning rate : 1.953125e-06\n",
      "Train accuracy: 0.9502541422843933, validation accuracy : 0.9683864116668701\n",
      "Epoch duration : 26.95577907562256\n",
      "[30,   100] loss: 0.152\n",
      "[30,   200] loss: 0.158\n",
      "[30,   300] loss: 0.127\n",
      "[30,   400] loss: 0.115\n",
      "[30,   500] loss: 0.121\n",
      "Learning rate : 1.953125e-06\n",
      "Train accuracy: 0.9552287459373474, validation accuracy : 0.9683864116668701\n",
      "Epoch duration : 26.754953622817993\n"
     ]
    }
   ],
   "source": [
    "num_epochs = 30\n",
    "mlp, loss_vals, train_acc_vals, val_acc_vals = train(mlp, train_loader, val_loader, criterion, optimizer, scheduler, num_epochs=num_epochs, input_type='audio')"
   ]
  },
  {
   "cell_type": "code",
   "execution_count": 25,
   "metadata": {
    "papermill": {
     "duration": 0.416619,
     "end_time": "2021-03-05T22:58:56.249811",
     "exception": false,
     "start_time": "2021-03-05T22:58:55.833192",
     "status": "completed"
    },
    "tags": []
   },
   "outputs": [
    {
     "data": {
      "image/png": "[encoded data removed]",
      "text/plain": [
       "<Figure size 432x288 with 2 Axes>"
      ]
     },
     "metadata": {
      "needs_background": "light"
     },
     "output_type": "display_data"
    }
   ],
   "source": [
    "plt.subplot(1,2,1)\n",
    "plt.plot(loss_vals)\n",
    "plt.title('Loss')\n",
    "plt.subplot(1,2,2)\n",
    "plt.plot(train_acc_vals, label='Training accuracy')\n",
    "plt.plot(val_acc_vals, label='Validation accuracy')\n",
    "plt.title('Accuracy')\n",
    "plt.legend()\n",
    "plt.tight_layout()"
   ]
  },
  {
   "cell_type": "markdown",
   "metadata": {
    "papermill": {
     "duration": 0.267788,
     "end_time": "2021-03-05T22:58:56.684583",
     "exception": false,
     "start_time": "2021-03-05T22:58:56.416795",
     "status": "completed"
    },
    "tags": []
   },
   "source": [
    "On sauvegarde le modèle entrainé."
   ]
  },
  {
   "cell_type": "code",
   "execution_count": 26,
   "metadata": {
    "papermill": {
     "duration": 0.184077,
     "end_time": "2021-03-05T22:58:57.125162",
     "exception": false,
     "start_time": "2021-03-05T22:58:56.941085",
     "status": "completed"
    },
    "tags": []
   },
   "outputs": [],
   "source": [
    "torch.save(mlp.state_dict(), 'mlp_audio.pt')"
   ]
  },
  {
   "cell_type": "code",
   "execution_count": 27,
   "metadata": {
    "papermill": {
     "duration": 0.163575,
     "end_time": "2021-03-05T22:58:57.439984",
     "exception": false,
     "start_time": "2021-03-05T22:58:57.276409",
     "status": "completed"
    },
    "tags": []
   },
   "outputs": [
    {
     "data": {
      "text/plain": [
       "MLP(\n",
       "  (linear1): Linear(in_features=104, out_features=156, bias=True)\n",
       "  (bn1): BatchNorm1d(156, eps=1e-05, momentum=0.1, affine=True, track_running_stats=True)\n",
       "  (linear2): Linear(in_features=156, out_features=208, bias=True)\n",
       "  (bn2): BatchNorm1d(208, eps=1e-05, momentum=0.1, affine=True, track_running_stats=True)\n",
       "  (linear3): Linear(in_features=208, out_features=156, bias=True)\n",
       "  (bn3): BatchNorm1d(156, eps=1e-05, momentum=0.1, affine=True, track_running_stats=True)\n",
       "  (linear4): Linear(in_features=156, out_features=104, bias=True)\n",
       "  (bn4): BatchNorm1d(104, eps=1e-05, momentum=0.1, affine=True, track_running_stats=True)\n",
       "  (linear5): Linear(in_features=104, out_features=64, bias=True)\n",
       "  (bn5): BatchNorm1d(64, eps=1e-05, momentum=0.1, affine=True, track_running_stats=True)\n",
       "  (final): Linear(in_features=64, out_features=9, bias=True)\n",
       ")"
      ]
     },
     "execution_count": 27,
     "metadata": {},
     "output_type": "execute_result"
    }
   ],
   "source": [
    "mlp.load_state_dict(torch.load('mlp_audio.pt'))\n",
    "mlp.eval()"
   ]
  },
  {
   "cell_type": "markdown",
   "metadata": {
    "papermill": {
     "duration": 0.150083,
     "end_time": "2021-03-05T22:58:57.741859",
     "exception": false,
     "start_time": "2021-03-05T22:58:57.591776",
     "status": "completed"
    },
    "tags": []
   },
   "source": [
    "## Classification multimodale"
   ]
  },
  {
   "cell_type": "markdown",
   "metadata": {
    "papermill": {
     "duration": 0.151391,
     "end_time": "2021-03-05T22:58:58.04416",
     "exception": false,
     "start_time": "2021-03-05T22:58:57.892769",
     "status": "completed"
    },
    "tags": []
   },
   "source": [
    "La classification multimodale est faite par un réseau de neurone, composé par les 2 réseaux précédents où l'on concatène les avant dernières couches (late fusion). On entraîne seulement la couche finale. "
   ]
  },
  {
   "cell_type": "code",
   "execution_count": 28,
   "metadata": {
    "papermill": {
     "duration": 0.200634,
     "end_time": "2021-03-05T22:58:58.395818",
     "exception": false,
     "start_time": "2021-03-05T22:58:58.195184",
     "status": "completed"
    },
    "tags": []
   },
   "outputs": [],
   "source": [
    "class MultimodalClf(nn.Module):\n",
    "    def __init__(self, img_clf, audio_clf):\n",
    "        super(MultimodalClf, self).__init__()\n",
    "        num_ftrs = img_clf.fc.in_features + audio_clf.final.in_features\n",
    "        self.img_feat = copy.deepcopy(img_clf)\n",
    "        self.img_feat.fc = nn.Identity()\n",
    "        self.audio_feat = copy.deepcopy(audio_clf)\n",
    "        self.audio_feat.final = nn.Identity()\n",
    "        \n",
    "        self.bn = nn.BatchNorm1d(num_ftrs)\n",
    "        self.final = nn.Linear(num_ftrs, 9)\n",
    "      \n",
    "    def forward(self, img, audio):\n",
    "        img_x = self.img_feat(img)\n",
    "        audio_x = self.audio_feat(audio)\n",
    "        x = torch.cat((img_x, audio_x), dim=1)\n",
    "        x = self.bn(x)\n",
    "        x = self.final(x)\n",
    "        return x\n",
    "    \n",
    "multi_clf = MultimodalClf(resnext, mlp).cuda()\n",
    "for param in multi_clf.img_feat.parameters():\n",
    "    param.requires_grad = False\n",
    "for param in multi_clf.audio_feat.parameters():\n",
    "    param.requires_grad = False"
   ]
  },
  {
   "cell_type": "markdown",
   "metadata": {
    "papermill": {
     "duration": 0.149673,
     "end_time": "2021-03-05T22:58:58.696187",
     "exception": false,
     "start_time": "2021-03-05T22:58:58.546514",
     "status": "completed"
    },
    "tags": []
   },
   "source": [
    "On constate que l'ajout de batch normalization avant la dernière couche donne de meilleures performances. Elle permet ici de mettre à la même echelle les features extraites par le réseau pour les images et celui pour l'audio."
   ]
  },
  {
   "cell_type": "markdown",
   "metadata": {
    "papermill": {
     "duration": 0.150909,
     "end_time": "2021-03-05T22:58:58.997721",
     "exception": false,
     "start_time": "2021-03-05T22:58:58.846812",
     "status": "completed"
    },
    "tags": []
   },
   "source": [
    "On construit les data loaders avec les transformations sur les images et sur l'audio."
   ]
  },
  {
   "cell_type": "code",
   "execution_count": 29,
   "metadata": {
    "papermill": {
     "duration": 0.162306,
     "end_time": "2021-03-05T22:58:59.311545",
     "exception": false,
     "start_time": "2021-03-05T22:58:59.149239",
     "status": "completed"
    },
    "tags": []
   },
   "outputs": [],
   "source": [
    "img_train_transform = torchvision.transforms.Compose([\n",
    "    torchvision.transforms.RandomResizedCrop(224),\n",
    "        torchvision.transforms.RandomHorizontalFlip(),\n",
    "        torchvision.transforms.ToTensor(),\n",
    "        torchvision.transforms.Normalize([0.485, 0.456, 0.406], [0.229, 0.224, 0.225])\n",
    "])\n",
    "img_val_transform = torchvision.transforms.Compose([\n",
    "    torchvision.transforms.CenterCrop(224),\n",
    "        torchvision.transforms.ToTensor(),\n",
    "        torchvision.transforms.Normalize([0.485, 0.456, 0.406], [0.229, 0.224, 0.225])\n",
    "])\n",
    "audio_transform = torchvision.transforms.Compose([\n",
    "    torch.from_numpy,\n",
    "    AddGaussianNoise(0.0, 0.1),\n",
    "    RandomCircularShift(),\n",
    "])\n",
    "train_dataset = ImageAudioDataset(root_dir=f'{datadir}/data/data/',\n",
    "                           files=img_train,\n",
    "                                 audio=audio_train,\n",
    "                                 labels=y_train,\n",
    "                          img_transform=img_train_transform,\n",
    "                                 audio_transform=audio_transform)\n",
    "train_loader = DataLoader(train_dataset, batch_size=16, shuffle=True, num_workers=4, pin_memory=True)\n",
    "\n",
    "val_dataset = ImageAudioDataset(root_dir=f'{datadir}/data/data/',\n",
    "                           files=img_val,\n",
    "                           audio=audio_val,\n",
    "                           labels=y_val,\n",
    "                          img_transform=img_val_transform,\n",
    "                             audio_transform=None)\n",
    "val_loader = DataLoader(val_dataset, batch_size=64, shuffle=True, num_workers=4, pin_memory=True)"
   ]
  },
  {
   "cell_type": "code",
   "execution_count": 30,
   "metadata": {
    "papermill": {
     "duration": 0.157818,
     "end_time": "2021-03-05T22:58:59.626182",
     "exception": false,
     "start_time": "2021-03-05T22:58:59.468364",
     "status": "completed"
    },
    "tags": []
   },
   "outputs": [],
   "source": [
    "optimizer = optim.Adam(multi_clf.final.parameters(), lr=0.001)\n",
    "criterion = nn.CrossEntropyLoss()\n",
    "scheduler = lr_scheduler.ReduceLROnPlateau(optimizer, patience=0,factor=0.5)"
   ]
  },
  {
   "cell_type": "code",
   "execution_count": 31,
   "metadata": {
    "papermill": {
     "duration": 2088.250533,
     "end_time": "2021-03-05T23:33:48.026607",
     "exception": false,
     "start_time": "2021-03-05T22:58:59.776074",
     "status": "completed"
    },
    "tags": []
   },
   "outputs": [
    {
     "name": "stdout",
     "output_type": "stream",
     "text": [
      "[1,   100] loss: 0.411\n",
      "[1,   200] loss: 0.139\n",
      "[1,   300] loss: 0.094\n",
      "[1,   400] loss: 0.067\n",
      "[1,   500] loss: 0.078\n",
      "Learning rate : 0.001\n",
      "Train accuracy: 0.9565264582633972, validation accuracy : 0.994731068611145\n",
      "Epoch duration : 37.205570936203\n",
      "[2,   100] loss: 0.059\n",
      "[2,   200] loss: 0.057\n",
      "[2,   300] loss: 0.045\n",
      "[2,   400] loss: 0.044\n",
      "[2,   500] loss: 0.051\n",
      "Learning rate : 0.001\n",
      "Train accuracy: 0.9845355153083801, validation accuracy : 0.9949505925178528\n",
      "Epoch duration : 37.34316349029541\n",
      "[3,   100] loss: 0.032\n",
      "[3,   200] loss: 0.040\n",
      "[3,   300] loss: 0.073\n",
      "[3,   400] loss: 0.049\n",
      "[3,   500] loss: 0.060\n",
      "Learning rate : 0.0005\n",
      "Train accuracy: 0.9841029644012451, validation accuracy : 0.9927552342414856\n",
      "Epoch duration : 37.292946577072144\n",
      "[4,   100] loss: 0.058\n",
      "[4,   200] loss: 0.030\n",
      "[4,   300] loss: 0.022\n",
      "[4,   400] loss: 0.034\n",
      "[4,   500] loss: 0.017\n",
      "Learning rate : 0.0005\n",
      "Train accuracy: 0.9902671575546265, validation accuracy : 0.9964873790740967\n",
      "Epoch duration : 37.23304057121277\n",
      "[5,   100] loss: 0.031\n",
      "[5,   200] loss: 0.036\n",
      "[5,   300] loss: 0.018\n",
      "[5,   400] loss: 0.019\n",
      "[5,   500] loss: 0.021\n",
      "Learning rate : 0.0005\n",
      "Train accuracy: 0.9902671575546265, validation accuracy : 0.9953896999359131\n",
      "Epoch duration : 37.36870551109314\n",
      "[6,   100] loss: 0.014\n",
      "[6,   200] loss: 0.026\n",
      "[6,   300] loss: 0.023\n",
      "[6,   400] loss: 0.018\n",
      "[6,   500] loss: 0.037\n",
      "Learning rate : 0.0005\n",
      "Train accuracy: 0.9926462769508362, validation accuracy : 0.997804582118988\n",
      "Epoch duration : 37.32013511657715\n",
      "[7,   100] loss: 0.024\n",
      "[7,   200] loss: 0.024\n",
      "[7,   300] loss: 0.019\n",
      "[7,   400] loss: 0.013\n",
      "[7,   500] loss: 0.025\n",
      "Learning rate : 0.0005\n",
      "Train accuracy: 0.9923218488693237, validation accuracy : 0.9969264268875122\n",
      "Epoch duration : 37.29504418373108\n",
      "[8,   100] loss: 0.029\n",
      "[8,   200] loss: 0.026\n",
      "[8,   300] loss: 0.037\n",
      "[8,   400] loss: 0.029\n",
      "[8,   500] loss: 0.022\n",
      "Learning rate : 0.00025\n",
      "Train accuracy: 0.9902671575546265, validation accuracy : 0.9973655343055725\n",
      "Epoch duration : 37.40215849876404\n",
      "[9,   100] loss: 0.043\n",
      "[9,   200] loss: 0.042\n",
      "[9,   300] loss: 0.028\n",
      "[9,   400] loss: 0.040\n",
      "[9,   500] loss: 0.015\n",
      "Learning rate : 0.000125\n",
      "Train accuracy: 0.9913485646247864, validation accuracy : 0.9973655343055725\n",
      "Epoch duration : 37.4232714176178\n",
      "[10,   100] loss: 0.014\n",
      "[10,   200] loss: 0.029\n",
      "[10,   300] loss: 0.027\n",
      "[10,   400] loss: 0.020\n",
      "[10,   500] loss: 0.014\n",
      "Learning rate : 0.000125\n",
      "Train accuracy: 0.9929707050323486, validation accuracy : 0.997804582118988\n",
      "Epoch duration : 37.365930795669556\n",
      "[11,   100] loss: 0.022\n",
      "[11,   200] loss: 0.026\n",
      "[11,   300] loss: 0.020\n",
      "[11,   400] loss: 0.019\n",
      "[11,   500] loss: 0.019\n",
      "Learning rate : 0.000125\n",
      "Train accuracy: 0.9926462769508362, validation accuracy : 0.9986827373504639\n",
      "Epoch duration : 37.398414611816406\n",
      "[12,   100] loss: 0.013\n",
      "[12,   200] loss: 0.014\n",
      "[12,   300] loss: 0.020\n",
      "[12,   400] loss: 0.014\n",
      "[12,   500] loss: 0.014\n",
      "Learning rate : 0.000125\n",
      "Train accuracy: 0.9943765997886658, validation accuracy : 0.9989023208618164\n",
      "Epoch duration : 37.404670000076294\n",
      "[13,   100] loss: 0.013\n",
      "[13,   200] loss: 0.020\n",
      "[13,   300] loss: 0.016\n",
      "[13,   400] loss: 0.015\n",
      "[13,   500] loss: 0.032\n",
      "Learning rate : 6.25e-05\n",
      "Train accuracy: 0.9943765997886658, validation accuracy : 0.9984632134437561\n",
      "Epoch duration : 37.48372983932495\n",
      "[14,   100] loss: 0.014\n",
      "[14,   200] loss: 0.017\n",
      "[14,   300] loss: 0.012\n",
      "[14,   400] loss: 0.009\n",
      "[14,   500] loss: 0.011\n",
      "Learning rate : 6.25e-05\n",
      "Train accuracy: 0.9947010278701782, validation accuracy : 0.9980241656303406\n",
      "Epoch duration : 37.48072052001953\n",
      "[15,   100] loss: 0.014\n",
      "[15,   200] loss: 0.023\n",
      "[15,   300] loss: 0.014\n",
      "[15,   400] loss: 0.013\n",
      "[15,   500] loss: 0.023\n",
      "Learning rate : 3.125e-05\n",
      "Train accuracy: 0.9948091506958008, validation accuracy : 0.9984632134437561\n",
      "Epoch duration : 37.41599440574646\n",
      "[16,   100] loss: 0.008\n",
      "[16,   200] loss: 0.010\n",
      "[16,   300] loss: 0.016\n",
      "[16,   400] loss: 0.007\n",
      "[16,   500] loss: 0.015\n",
      "Learning rate : 3.125e-05\n",
      "Train accuracy: 0.9963231682777405, validation accuracy : 0.9982436895370483\n",
      "Epoch duration : 37.57619881629944\n",
      "[17,   100] loss: 0.014\n",
      "[17,   200] loss: 0.015\n",
      "[17,   300] loss: 0.018\n",
      "[17,   400] loss: 0.017\n",
      "[17,   500] loss: 0.014\n",
      "Learning rate : 1.5625e-05\n",
      "Train accuracy: 0.9948091506958008, validation accuracy : 0.9982436895370483\n",
      "Epoch duration : 37.54816198348999\n",
      "[18,   100] loss: 0.027\n",
      "[18,   200] loss: 0.006\n",
      "[18,   300] loss: 0.016\n",
      "[18,   400] loss: 0.015\n",
      "[18,   500] loss: 0.009\n",
      "Learning rate : 7.8125e-06\n",
      "Train accuracy: 0.9943765997886658, validation accuracy : 0.9989023208618164\n",
      "Epoch duration : 37.44191098213196\n",
      "[19,   100] loss: 0.020\n",
      "[19,   200] loss: 0.018\n",
      "[19,   300] loss: 0.024\n",
      "[19,   400] loss: 0.026\n",
      "[19,   500] loss: 0.014\n",
      "Learning rate : 3.90625e-06\n",
      "Train accuracy: 0.993511438369751, validation accuracy : 0.9986827373504639\n",
      "Epoch duration : 37.485680103302\n",
      "[20,   100] loss: 0.011\n",
      "[20,   200] loss: 0.017\n",
      "[20,   300] loss: 0.015\n",
      "[20,   400] loss: 0.017\n",
      "[20,   500] loss: 0.023\n",
      "Learning rate : 1.953125e-06\n",
      "Train accuracy: 0.9942684173583984, validation accuracy : 0.9982436895370483\n",
      "Epoch duration : 37.42092037200928\n",
      "[21,   100] loss: 0.012\n",
      "[21,   200] loss: 0.013\n",
      "[21,   300] loss: 0.009\n",
      "[21,   400] loss: 0.013\n",
      "[21,   500] loss: 0.020\n",
      "Learning rate : 9.765625e-07\n",
      "Train accuracy: 0.9944847226142883, validation accuracy : 0.9982436895370483\n",
      "Epoch duration : 37.47309422492981\n",
      "[22,   100] loss: 0.017\n",
      "[22,   200] loss: 0.033\n",
      "[22,   300] loss: 0.014\n",
      "[22,   400] loss: 0.015\n",
      "[22,   500] loss: 0.013\n",
      "Learning rate : 4.8828125e-07\n",
      "Train accuracy: 0.9944847226142883, validation accuracy : 0.9984632134437561\n",
      "Epoch duration : 37.547388553619385\n",
      "[23,   100] loss: 0.022\n",
      "[23,   200] loss: 0.016\n",
      "[23,   300] loss: 0.011\n",
      "[23,   400] loss: 0.016\n",
      "[23,   500] loss: 0.022\n",
      "Learning rate : 2.44140625e-07\n",
      "Train accuracy: 0.9956743121147156, validation accuracy : 0.9984632134437561\n",
      "Epoch duration : 37.52841830253601\n",
      "[24,   100] loss: 0.023\n",
      "[24,   200] loss: 0.014\n",
      "[24,   300] loss: 0.011\n",
      "[24,   400] loss: 0.017\n",
      "[24,   500] loss: 0.008\n",
      "Learning rate : 1.220703125e-07\n",
      "Train accuracy: 0.9951335787773132, validation accuracy : 0.9980241656303406\n",
      "Epoch duration : 37.479554414749146\n",
      "[25,   100] loss: 0.011\n",
      "[25,   200] loss: 0.010\n",
      "[25,   300] loss: 0.015\n",
      "[25,   400] loss: 0.012\n",
      "[25,   500] loss: 0.017\n",
      "Learning rate : 6.103515625e-08\n",
      "Train accuracy: 0.9951335787773132, validation accuracy : 0.9991218447685242\n",
      "Epoch duration : 37.51282262802124\n",
      "[26,   100] loss: 0.016\n",
      "[26,   200] loss: 0.015\n",
      "[26,   300] loss: 0.029\n",
      "[26,   400] loss: 0.009\n",
      "[26,   500] loss: 0.015\n",
      "Learning rate : 3.0517578125e-08\n",
      "Train accuracy: 0.9943765997886658, validation accuracy : 0.9980241656303406\n",
      "Epoch duration : 37.43378472328186\n",
      "[27,   100] loss: 0.018\n",
      "[27,   200] loss: 0.016\n",
      "[27,   300] loss: 0.015\n",
      "[27,   400] loss: 0.005\n",
      "[27,   500] loss: 0.014\n",
      "Learning rate : 1.52587890625e-08\n",
      "Train accuracy: 0.9963231682777405, validation accuracy : 0.9973655343055725\n",
      "Epoch duration : 37.40150475502014\n",
      "[28,   100] loss: 0.018\n",
      "[28,   200] loss: 0.008\n",
      "[28,   300] loss: 0.014\n",
      "[28,   400] loss: 0.017\n",
      "[28,   500] loss: 0.009\n",
      "Learning rate : 1.52587890625e-08\n",
      "Train accuracy: 0.9945928454399109, validation accuracy : 0.9989023208618164\n",
      "Epoch duration : 37.41029167175293\n",
      "[29,   100] loss: 0.010\n",
      "[29,   200] loss: 0.024\n",
      "[29,   300] loss: 0.011\n",
      "[29,   400] loss: 0.020\n",
      "[29,   500] loss: 0.022\n",
      "Learning rate : 1.52587890625e-08\n",
      "Train accuracy: 0.9941602945327759, validation accuracy : 0.9980241656303406\n",
      "Epoch duration : 37.398717164993286\n",
      "[30,   100] loss: 0.025\n",
      "[30,   200] loss: 0.012\n",
      "[30,   300] loss: 0.015\n",
      "[30,   400] loss: 0.015\n",
      "[30,   500] loss: 0.021\n",
      "Learning rate : 1.52587890625e-08\n",
      "Train accuracy: 0.9948091506958008, validation accuracy : 0.9986827373504639\n",
      "Epoch duration : 37.48883819580078\n"
     ]
    }
   ],
   "source": [
    "num_epochs = 30\n",
    "multi_clf, loss_vals, train_acc_vals, val_acc_vals = train(multi_clf, train_loader, val_loader, criterion, optimizer, scheduler, num_epochs=num_epochs, input_type='multimodal')"
   ]
  },
  {
   "cell_type": "code",
   "execution_count": 32,
   "metadata": {
    "papermill": {
     "duration": 0.482807,
     "end_time": "2021-03-05T23:33:48.758276",
     "exception": false,
     "start_time": "2021-03-05T23:33:48.275469",
     "status": "completed"
    },
    "tags": []
   },
   "outputs": [
    {
     "data": {
      "image/png": "[encoded data removed]",
      "text/plain": [
       "<Figure size 432x288 with 2 Axes>"
      ]
     },
     "metadata": {
      "needs_background": "light"
     },
     "output_type": "display_data"
    }
   ],
   "source": [
    "plt.subplot(1,2,1)\n",
    "plt.plot(loss_vals)\n",
    "plt.title('Loss')\n",
    "plt.subplot(1,2,2)\n",
    "plt.plot(train_acc_vals, label='Training accuracy')\n",
    "plt.plot(val_acc_vals, label='Validation accuracy')\n",
    "plt.title('Accuracy')\n",
    "plt.legend()\n",
    "plt.tight_layout()"
   ]
  },
  {
   "cell_type": "markdown",
   "metadata": {},
   "source": [
    "Visualisation d'exemples de données de validation mal classées :"
   ]
  },
  {
   "cell_type": "code",
   "execution_count": 33,
   "metadata": {},
   "outputs": [
    {
     "name": "stderr",
     "output_type": "stream",
     "text": [
      "Clipping input data to the valid range for imshow with RGB data ([0..1] for floats or [0..255] for integers).\n",
      "Clipping input data to the valid range for imshow with RGB data ([0..1] for floats or [0..255] for integers).\n",
      "Clipping input data to the valid range for imshow with RGB data ([0..1] for floats or [0..255] for integers).\n",
      "Clipping input data to the valid range for imshow with RGB data ([0..1] for floats or [0..255] for integers).\n"
     ]
    },
    {
     "name": "stdout",
     "output_type": "stream",
     "text": [
      "tensor(7) tensor(6, device='cuda:0')\n",
      "True label : GROCERY-STORE, predicted : RESTAURANT\n",
      "tensor(8) tensor(6, device='cuda:0')\n",
      "True label : FOOTBALL-MATCH, predicted : RESTAURANT\n",
      "tensor(8) tensor(7, device='cuda:0')\n",
      "True label : FOOTBALL-MATCH, predicted : GROCERY-STORE\n",
      "tensor(6) tensor(4, device='cuda:0')\n",
      "True label : RESTAURANT, predicted : RIVER\n"
     ]
    },
    {
     "data": {
      "image/png": "[encoded data removed]",
      "text/plain": [
       "<Figure size 432x288 with 1 Axes>"
      ]
     },
     "metadata": {
      "needs_background": "light"
     },
     "output_type": "display_data"
    },
    {
     "data": {
      "image/png": "[encoded data removed]",
      "text/plain": [
       "<Figure size 432x288 with 1 Axes>"
      ]
     },
     "metadata": {
      "needs_background": "light"
     },
     "output_type": "display_data"
    },
    {
     "data": {
      "image/png": "[encoded data removed]",
      "text/plain": [
       "<Figure size 432x288 with 1 Axes>"
      ]
     },
     "metadata": {
      "needs_background": "light"
     },
     "output_type": "display_data"
    },
    {
     "data": {
      "image/png": "[encoded data removed]",
      "text/plain": [
       "<Figure size 432x288 with 1 Axes>"
      ]
     },
     "metadata": {
      "needs_background": "light"
     },
     "output_type": "display_data"
    }
   ],
   "source": [
    "_,incorrect_pred = predict(multi_clf, val_loader,has_labels=True,input_type='multimodal')\n",
    "for img, mfcc, true_label, pred_label in incorrect_pred:\n",
    "    print(true_label, pred_label)\n",
    "    print(f'True label : {class_list[true_label]}, predicted : {class_list[pred_label]}')\n",
    "    #print(f'Audio MFCC (normalized) : {mfcc}')\n",
    "    plt.figure()\n",
    "    plt.imshow(img.cpu().permute(1, 2, 0) )"
   ]
  },
  {
   "cell_type": "markdown",
   "metadata": {},
   "source": [
    "Parmi les scènes que le modèle n'arrive pas à classer, on retrouve des écrans noirs, qui correspondent à des génériques ou des écrans titre (le dataset a été généré à partir de vidéos). Il est difficile de dire si les données audio peuvent aider à classer ces scènes, car on ne connaît pas le son original (la transformée en MFCC n'est pas inversible)."
   ]
  },
  {
   "cell_type": "markdown",
   "metadata": {},
   "source": [
    "Ce n'est pas visible ici, mais avec des hyperparamètres ou des graines différentes on peut voir que quelques fois le modèle classifie certaines scènes de forêt comme rivière ou vice-versa. Cela n'est pas anormal car ces classes ne sont pas vraiment mutuellement exclusives."
   ]
  },
  {
   "cell_type": "code",
   "execution_count": 61,
   "metadata": {},
   "outputs": [
    {
     "name": "stdout",
     "output_type": "stream",
     "text": [
      "JUNGLE\n"
     ]
    },
    {
     "data": {
      "image/png": "[encoded data removed]",
      "text/plain": [
       "<Figure size 432x288 with 1 Axes>"
      ]
     },
     "metadata": {
      "needs_background": "light"
     },
     "output_type": "display_data"
    }
   ],
   "source": [
    "# visu image\n",
    "idx = 5084\n",
    "class_list = ['FOREST', 'CITY', 'BEACH', 'CLASSROOM', 'RIVER', 'JUNGLE', 'RESTAURANT', 'GROCERY-STORE', 'FOOTBALL-MATCH']\n",
    "img = Image.open(f'{datadir}/data/data/{img_list[idx]}')\n",
    "plt.imshow(np.asarray(img))\n",
    "print(class_list[labels[idx]])"
   ]
  },
  {
   "cell_type": "code",
   "execution_count": 34,
   "metadata": {
    "papermill": {
     "duration": 0.396856,
     "end_time": "2021-03-05T23:33:49.360918",
     "exception": false,
     "start_time": "2021-03-05T23:33:48.964062",
     "status": "completed"
    },
    "tags": []
   },
   "outputs": [],
   "source": [
    "torch.save(multi_clf.state_dict(), 'multi_clf.pt')"
   ]
  },
  {
   "cell_type": "code",
   "execution_count": 35,
   "metadata": {
    "papermill": {
     "duration": 0.327418,
     "end_time": "2021-03-05T23:33:49.914869",
     "exception": false,
     "start_time": "2021-03-05T23:33:49.587451",
     "status": "completed"
    },
    "tags": []
   },
   "outputs": [
    {
     "data": {
      "text/plain": [
       "MultimodalClf(\n",
       "  (img_feat): ResNet(\n",
       "    (conv1): Conv2d(3, 64, kernel_size=(7, 7), stride=(2, 2), padding=(3, 3), bias=False)\n",
       "    (bn1): BatchNorm2d(64, eps=1e-05, momentum=0.1, affine=True, track_running_stats=True)\n",
       "    (relu): ReLU(inplace=True)\n",
       "    (maxpool): MaxPool2d(kernel_size=3, stride=2, padding=1, dilation=1, ceil_mode=False)\n",
       "    (layer1): Sequential(\n",
       "      (0): Bottleneck(\n",
       "        (conv1): Conv2d(64, 128, kernel_size=(1, 1), stride=(1, 1), bias=False)\n",
       "        (bn1): BatchNorm2d(128, eps=1e-05, momentum=0.1, affine=True, track_running_stats=True)\n",
       "        (conv2): Conv2d(128, 128, kernel_size=(3, 3), stride=(1, 1), padding=(1, 1), groups=32, bias=False)\n",
       "        (bn2): BatchNorm2d(128, eps=1e-05, momentum=0.1, affine=True, track_running_stats=True)\n",
       "        (conv3): Conv2d(128, 256, kernel_size=(1, 1), stride=(1, 1), bias=False)\n",
       "        (bn3): BatchNorm2d(256, eps=1e-05, momentum=0.1, affine=True, track_running_stats=True)\n",
       "        (relu): ReLU(inplace=True)\n",
       "        (downsample): Sequential(\n",
       "          (0): Conv2d(64, 256, kernel_size=(1, 1), stride=(1, 1), bias=False)\n",
       "          (1): BatchNorm2d(256, eps=1e-05, momentum=0.1, affine=True, track_running_stats=True)\n",
       "        )\n",
       "      )\n",
       "      (1): Bottleneck(\n",
       "        (conv1): Conv2d(256, 128, kernel_size=(1, 1), stride=(1, 1), bias=False)\n",
       "        (bn1): BatchNorm2d(128, eps=1e-05, momentum=0.1, affine=True, track_running_stats=True)\n",
       "        (conv2): Conv2d(128, 128, kernel_size=(3, 3), stride=(1, 1), padding=(1, 1), groups=32, bias=False)\n",
       "        (bn2): BatchNorm2d(128, eps=1e-05, momentum=0.1, affine=True, track_running_stats=True)\n",
       "        (conv3): Conv2d(128, 256, kernel_size=(1, 1), stride=(1, 1), bias=False)\n",
       "        (bn3): BatchNorm2d(256, eps=1e-05, momentum=0.1, affine=True, track_running_stats=True)\n",
       "        (relu): ReLU(inplace=True)\n",
       "      )\n",
       "      (2): Bottleneck(\n",
       "        (conv1): Conv2d(256, 128, kernel_size=(1, 1), stride=(1, 1), bias=False)\n",
       "        (bn1): BatchNorm2d(128, eps=1e-05, momentum=0.1, affine=True, track_running_stats=True)\n",
       "        (conv2): Conv2d(128, 128, kernel_size=(3, 3), stride=(1, 1), padding=(1, 1), groups=32, bias=False)\n",
       "        (bn2): BatchNorm2d(128, eps=1e-05, momentum=0.1, affine=True, track_running_stats=True)\n",
       "        (conv3): Conv2d(128, 256, kernel_size=(1, 1), stride=(1, 1), bias=False)\n",
       "        (bn3): BatchNorm2d(256, eps=1e-05, momentum=0.1, affine=True, track_running_stats=True)\n",
       "        (relu): ReLU(inplace=True)\n",
       "      )\n",
       "    )\n",
       "    (layer2): Sequential(\n",
       "      (0): Bottleneck(\n",
       "        (conv1): Conv2d(256, 256, kernel_size=(1, 1), stride=(1, 1), bias=False)\n",
       "        (bn1): BatchNorm2d(256, eps=1e-05, momentum=0.1, affine=True, track_running_stats=True)\n",
       "        (conv2): Conv2d(256, 256, kernel_size=(3, 3), stride=(2, 2), padding=(1, 1), groups=32, bias=False)\n",
       "        (bn2): BatchNorm2d(256, eps=1e-05, momentum=0.1, affine=True, track_running_stats=True)\n",
       "        (conv3): Conv2d(256, 512, kernel_size=(1, 1), stride=(1, 1), bias=False)\n",
       "        (bn3): BatchNorm2d(512, eps=1e-05, momentum=0.1, affine=True, track_running_stats=True)\n",
       "        (relu): ReLU(inplace=True)\n",
       "        (downsample): Sequential(\n",
       "          (0): Conv2d(256, 512, kernel_size=(1, 1), stride=(2, 2), bias=False)\n",
       "          (1): BatchNorm2d(512, eps=1e-05, momentum=0.1, affine=True, track_running_stats=True)\n",
       "        )\n",
       "      )\n",
       "      (1): Bottleneck(\n",
       "        (conv1): Conv2d(512, 256, kernel_size=(1, 1), stride=(1, 1), bias=False)\n",
       "        (bn1): BatchNorm2d(256, eps=1e-05, momentum=0.1, affine=True, track_running_stats=True)\n",
       "        (conv2): Conv2d(256, 256, kernel_size=(3, 3), stride=(1, 1), padding=(1, 1), groups=32, bias=False)\n",
       "        (bn2): BatchNorm2d(256, eps=1e-05, momentum=0.1, affine=True, track_running_stats=True)\n",
       "        (conv3): Conv2d(256, 512, kernel_size=(1, 1), stride=(1, 1), bias=False)\n",
       "        (bn3): BatchNorm2d(512, eps=1e-05, momentum=0.1, affine=True, track_running_stats=True)\n",
       "        (relu): ReLU(inplace=True)\n",
       "      )\n",
       "      (2): Bottleneck(\n",
       "        (conv1): Conv2d(512, 256, kernel_size=(1, 1), stride=(1, 1), bias=False)\n",
       "        (bn1): BatchNorm2d(256, eps=1e-05, momentum=0.1, affine=True, track_running_stats=True)\n",
       "        (conv2): Conv2d(256, 256, kernel_size=(3, 3), stride=(1, 1), padding=(1, 1), groups=32, bias=False)\n",
       "        (bn2): BatchNorm2d(256, eps=1e-05, momentum=0.1, affine=True, track_running_stats=True)\n",
       "        (conv3): Conv2d(256, 512, kernel_size=(1, 1), stride=(1, 1), bias=False)\n",
       "        (bn3): BatchNorm2d(512, eps=1e-05, momentum=0.1, affine=True, track_running_stats=True)\n",
       "        (relu): ReLU(inplace=True)\n",
       "      )\n",
       "      (3): Bottleneck(\n",
       "        (conv1): Conv2d(512, 256, kernel_size=(1, 1), stride=(1, 1), bias=False)\n",
       "        (bn1): BatchNorm2d(256, eps=1e-05, momentum=0.1, affine=True, track_running_stats=True)\n",
       "        (conv2): Conv2d(256, 256, kernel_size=(3, 3), stride=(1, 1), padding=(1, 1), groups=32, bias=False)\n",
       "        (bn2): BatchNorm2d(256, eps=1e-05, momentum=0.1, affine=True, track_running_stats=True)\n",
       "        (conv3): Conv2d(256, 512, kernel_size=(1, 1), stride=(1, 1), bias=False)\n",
       "        (bn3): BatchNorm2d(512, eps=1e-05, momentum=0.1, affine=True, track_running_stats=True)\n",
       "        (relu): ReLU(inplace=True)\n",
       "      )\n",
       "    )\n",
       "    (layer3): Sequential(\n",
       "      (0): Bottleneck(\n",
       "        (conv1): Conv2d(512, 512, kernel_size=(1, 1), stride=(1, 1), bias=False)\n",
       "        (bn1): BatchNorm2d(512, eps=1e-05, momentum=0.1, affine=True, track_running_stats=True)\n",
       "        (conv2): Conv2d(512, 512, kernel_size=(3, 3), stride=(2, 2), padding=(1, 1), groups=32, bias=False)\n",
       "        (bn2): BatchNorm2d(512, eps=1e-05, momentum=0.1, affine=True, track_running_stats=True)\n",
       "        (conv3): Conv2d(512, 1024, kernel_size=(1, 1), stride=(1, 1), bias=False)\n",
       "        (bn3): BatchNorm2d(1024, eps=1e-05, momentum=0.1, affine=True, track_running_stats=True)\n",
       "        (relu): ReLU(inplace=True)\n",
       "        (downsample): Sequential(\n",
       "          (0): Conv2d(512, 1024, kernel_size=(1, 1), stride=(2, 2), bias=False)\n",
       "          (1): BatchNorm2d(1024, eps=1e-05, momentum=0.1, affine=True, track_running_stats=True)\n",
       "        )\n",
       "      )\n",
       "      (1): Bottleneck(\n",
       "        (conv1): Conv2d(1024, 512, kernel_size=(1, 1), stride=(1, 1), bias=False)\n",
       "        (bn1): BatchNorm2d(512, eps=1e-05, momentum=0.1, affine=True, track_running_stats=True)\n",
       "        (conv2): Conv2d(512, 512, kernel_size=(3, 3), stride=(1, 1), padding=(1, 1), groups=32, bias=False)\n",
       "        (bn2): BatchNorm2d(512, eps=1e-05, momentum=0.1, affine=True, track_running_stats=True)\n",
       "        (conv3): Conv2d(512, 1024, kernel_size=(1, 1), stride=(1, 1), bias=False)\n",
       "        (bn3): BatchNorm2d(1024, eps=1e-05, momentum=0.1, affine=True, track_running_stats=True)\n",
       "        (relu): ReLU(inplace=True)\n",
       "      )\n",
       "      (2): Bottleneck(\n",
       "        (conv1): Conv2d(1024, 512, kernel_size=(1, 1), stride=(1, 1), bias=False)\n",
       "        (bn1): BatchNorm2d(512, eps=1e-05, momentum=0.1, affine=True, track_running_stats=True)\n",
       "        (conv2): Conv2d(512, 512, kernel_size=(3, 3), stride=(1, 1), padding=(1, 1), groups=32, bias=False)\n",
       "        (bn2): BatchNorm2d(512, eps=1e-05, momentum=0.1, affine=True, track_running_stats=True)\n",
       "        (conv3): Conv2d(512, 1024, kernel_size=(1, 1), stride=(1, 1), bias=False)\n",
       "        (bn3): BatchNorm2d(1024, eps=1e-05, momentum=0.1, affine=True, track_running_stats=True)\n",
       "        (relu): ReLU(inplace=True)\n",
       "      )\n",
       "      (3): Bottleneck(\n",
       "        (conv1): Conv2d(1024, 512, kernel_size=(1, 1), stride=(1, 1), bias=False)\n",
       "        (bn1): BatchNorm2d(512, eps=1e-05, momentum=0.1, affine=True, track_running_stats=True)\n",
       "        (conv2): Conv2d(512, 512, kernel_size=(3, 3), stride=(1, 1), padding=(1, 1), groups=32, bias=False)\n",
       "        (bn2): BatchNorm2d(512, eps=1e-05, momentum=0.1, affine=True, track_running_stats=True)\n",
       "        (conv3): Conv2d(512, 1024, kernel_size=(1, 1), stride=(1, 1), bias=False)\n",
       "        (bn3): BatchNorm2d(1024, eps=1e-05, momentum=0.1, affine=True, track_running_stats=True)\n",
       "        (relu): ReLU(inplace=True)\n",
       "      )\n",
       "      (4): Bottleneck(\n",
       "        (conv1): Conv2d(1024, 512, kernel_size=(1, 1), stride=(1, 1), bias=False)\n",
       "        (bn1): BatchNorm2d(512, eps=1e-05, momentum=0.1, affine=True, track_running_stats=True)\n",
       "        (conv2): Conv2d(512, 512, kernel_size=(3, 3), stride=(1, 1), padding=(1, 1), groups=32, bias=False)\n",
       "        (bn2): BatchNorm2d(512, eps=1e-05, momentum=0.1, affine=True, track_running_stats=True)\n",
       "        (conv3): Conv2d(512, 1024, kernel_size=(1, 1), stride=(1, 1), bias=False)\n",
       "        (bn3): BatchNorm2d(1024, eps=1e-05, momentum=0.1, affine=True, track_running_stats=True)\n",
       "        (relu): ReLU(inplace=True)\n",
       "      )\n",
       "      (5): Bottleneck(\n",
       "        (conv1): Conv2d(1024, 512, kernel_size=(1, 1), stride=(1, 1), bias=False)\n",
       "        (bn1): BatchNorm2d(512, eps=1e-05, momentum=0.1, affine=True, track_running_stats=True)\n",
       "        (conv2): Conv2d(512, 512, kernel_size=(3, 3), stride=(1, 1), padding=(1, 1), groups=32, bias=False)\n",
       "        (bn2): BatchNorm2d(512, eps=1e-05, momentum=0.1, affine=True, track_running_stats=True)\n",
       "        (conv3): Conv2d(512, 1024, kernel_size=(1, 1), stride=(1, 1), bias=False)\n",
       "        (bn3): BatchNorm2d(1024, eps=1e-05, momentum=0.1, affine=True, track_running_stats=True)\n",
       "        (relu): ReLU(inplace=True)\n",
       "      )\n",
       "    )\n",
       "    (layer4): Sequential(\n",
       "      (0): Bottleneck(\n",
       "        (conv1): Conv2d(1024, 1024, kernel_size=(1, 1), stride=(1, 1), bias=False)\n",
       "        (bn1): BatchNorm2d(1024, eps=1e-05, momentum=0.1, affine=True, track_running_stats=True)\n",
       "        (conv2): Conv2d(1024, 1024, kernel_size=(3, 3), stride=(2, 2), padding=(1, 1), groups=32, bias=False)\n",
       "        (bn2): BatchNorm2d(1024, eps=1e-05, momentum=0.1, affine=True, track_running_stats=True)\n",
       "        (conv3): Conv2d(1024, 2048, kernel_size=(1, 1), stride=(1, 1), bias=False)\n",
       "        (bn3): BatchNorm2d(2048, eps=1e-05, momentum=0.1, affine=True, track_running_stats=True)\n",
       "        (relu): ReLU(inplace=True)\n",
       "        (downsample): Sequential(\n",
       "          (0): Conv2d(1024, 2048, kernel_size=(1, 1), stride=(2, 2), bias=False)\n",
       "          (1): BatchNorm2d(2048, eps=1e-05, momentum=0.1, affine=True, track_running_stats=True)\n",
       "        )\n",
       "      )\n",
       "      (1): Bottleneck(\n",
       "        (conv1): Conv2d(2048, 1024, kernel_size=(1, 1), stride=(1, 1), bias=False)\n",
       "        (bn1): BatchNorm2d(1024, eps=1e-05, momentum=0.1, affine=True, track_running_stats=True)\n",
       "        (conv2): Conv2d(1024, 1024, kernel_size=(3, 3), stride=(1, 1), padding=(1, 1), groups=32, bias=False)\n",
       "        (bn2): BatchNorm2d(1024, eps=1e-05, momentum=0.1, affine=True, track_running_stats=True)\n",
       "        (conv3): Conv2d(1024, 2048, kernel_size=(1, 1), stride=(1, 1), bias=False)\n",
       "        (bn3): BatchNorm2d(2048, eps=1e-05, momentum=0.1, affine=True, track_running_stats=True)\n",
       "        (relu): ReLU(inplace=True)\n",
       "      )\n",
       "      (2): Bottleneck(\n",
       "        (conv1): Conv2d(2048, 1024, kernel_size=(1, 1), stride=(1, 1), bias=False)\n",
       "        (bn1): BatchNorm2d(1024, eps=1e-05, momentum=0.1, affine=True, track_running_stats=True)\n",
       "        (conv2): Conv2d(1024, 1024, kernel_size=(3, 3), stride=(1, 1), padding=(1, 1), groups=32, bias=False)\n",
       "        (bn2): BatchNorm2d(1024, eps=1e-05, momentum=0.1, affine=True, track_running_stats=True)\n",
       "        (conv3): Conv2d(1024, 2048, kernel_size=(1, 1), stride=(1, 1), bias=False)\n",
       "        (bn3): BatchNorm2d(2048, eps=1e-05, momentum=0.1, affine=True, track_running_stats=True)\n",
       "        (relu): ReLU(inplace=True)\n",
       "      )\n",
       "    )\n",
       "    (avgpool): AdaptiveAvgPool2d(output_size=(1, 1))\n",
       "    (fc): Identity()\n",
       "  )\n",
       "  (audio_feat): MLP(\n",
       "    (linear1): Linear(in_features=104, out_features=156, bias=True)\n",
       "    (bn1): BatchNorm1d(156, eps=1e-05, momentum=0.1, affine=True, track_running_stats=True)\n",
       "    (linear2): Linear(in_features=156, out_features=208, bias=True)\n",
       "    (bn2): BatchNorm1d(208, eps=1e-05, momentum=0.1, affine=True, track_running_stats=True)\n",
       "    (linear3): Linear(in_features=208, out_features=156, bias=True)\n",
       "    (bn3): BatchNorm1d(156, eps=1e-05, momentum=0.1, affine=True, track_running_stats=True)\n",
       "    (linear4): Linear(in_features=156, out_features=104, bias=True)\n",
       "    (bn4): BatchNorm1d(104, eps=1e-05, momentum=0.1, affine=True, track_running_stats=True)\n",
       "    (linear5): Linear(in_features=104, out_features=64, bias=True)\n",
       "    (bn5): BatchNorm1d(64, eps=1e-05, momentum=0.1, affine=True, track_running_stats=True)\n",
       "    (final): Identity()\n",
       "  )\n",
       "  (bn): BatchNorm1d(2112, eps=1e-05, momentum=0.1, affine=True, track_running_stats=True)\n",
       "  (final): Linear(in_features=2112, out_features=9, bias=True)\n",
       ")"
      ]
     },
     "execution_count": 35,
     "metadata": {},
     "output_type": "execute_result"
    }
   ],
   "source": [
    "multi_clf.load_state_dict(torch.load('multi_clf.pt'))\n",
    "multi_clf.eval()"
   ]
  },
  {
   "cell_type": "markdown",
   "metadata": {
    "papermill": {
     "duration": 0.206749,
     "end_time": "2021-03-05T23:33:50.328644",
     "exception": false,
     "start_time": "2021-03-05T23:33:50.121895",
     "status": "completed"
    },
    "tags": []
   },
   "source": [
    "## Soumission résultats test"
   ]
  },
  {
   "cell_type": "markdown",
   "metadata": {
    "papermill": {
     "duration": 0.206798,
     "end_time": "2021-03-05T23:33:50.746448",
     "exception": false,
     "start_time": "2021-03-05T23:33:50.53965",
     "status": "completed"
    },
    "tags": []
   },
   "source": [
    "Chargement données de test."
   ]
  },
  {
   "cell_type": "code",
   "execution_count": 36,
   "metadata": {
    "papermill": {
     "duration": 0.630516,
     "end_time": "2021-03-05T23:33:51.58441",
     "exception": false,
     "start_time": "2021-03-05T23:33:50.953894",
     "status": "completed"
    },
    "tags": []
   },
   "outputs": [],
   "source": [
    "testdata = pd.read_csv(os.path.join(datadir,'data_test_novt.csv'), delimiter=',', nrows = None)\n",
    "data = np.array(testdata)\n",
    "\n",
    "audio_test = np.array(data[:, 1:], dtype='float32')\n",
    "\n",
    "testimg_list = testdata['IMAGE']\n",
    "\n",
    "audio_test = normalize(audio_test)"
   ]
  },
  {
   "cell_type": "markdown",
   "metadata": {
    "papermill": {
     "duration": 0.210256,
     "end_time": "2021-03-05T23:33:52.000185",
     "exception": false,
     "start_time": "2021-03-05T23:33:51.789929",
     "status": "completed"
    },
    "tags": []
   },
   "source": [
    "Création du data loader pour les données de test "
   ]
  },
  {
   "cell_type": "code",
   "execution_count": 37,
   "metadata": {
    "papermill": {
     "duration": 0.215353,
     "end_time": "2021-03-05T23:33:52.42132",
     "exception": false,
     "start_time": "2021-03-05T23:33:52.205967",
     "status": "completed"
    },
    "tags": []
   },
   "outputs": [],
   "source": [
    "test_dataset = ImageAudioDataset(root_dir=f'{datadir}/data/data/',\n",
    "                           files=testimg_list,\n",
    "                                 audio=audio_test,\n",
    "                                 labels=None,\n",
    "                          img_transform=img_val_transform,\n",
    "                                 audio_transform=None)\n",
    "test_loader = DataLoader(test_dataset, batch_size=64, shuffle=False, num_workers=4, pin_memory=True)"
   ]
  },
  {
   "cell_type": "markdown",
   "metadata": {},
   "source": [
    "On peut faire les prédictions sur les données de test avec le modèle entraîné sur les données d'entraînement privé de l'ensemble de validation, ou bien réentrainer le modèle sur l'ensemble d'entraînement complet.\n",
    "L'avantage d'utiliser l'ensemble d'entraînement complet et que l'on utilise plus de données, mais on a moins de contrôle sur un éventuel surapprentissage."
   ]
  },
  {
   "cell_type": "markdown",
   "metadata": {},
   "source": [
    "#### Prédictions en utilisant l'ensemble d'entraînement partiel"
   ]
  },
  {
   "cell_type": "code",
   "execution_count": 38,
   "metadata": {},
   "outputs": [],
   "source": [
    "#====================================================================\n",
    "# Création du ficher de soumission\n",
    "y_pred = predict(multi_clf, test_loader, input_type='multimodal')\n",
    "submission = pd.DataFrame({'CLASS':y_pred})\n",
    "submission=submission.reset_index()\n",
    "submission = submission.rename(columns={'index': 'Id'})\n",
    "\n",
    "#======================================================================\n",
    "# Sauvegarde du fichier\n",
    "submission.to_csv('submission_part.csv', index=False)"
   ]
  },
  {
   "cell_type": "markdown",
   "metadata": {},
   "source": [
    "#### Prédictions en utilisant l'ensemble d'entraînement complet"
   ]
  },
  {
   "cell_type": "markdown",
   "metadata": {
    "papermill": {
     "duration": 0.206155,
     "end_time": "2021-03-05T23:34:12.140561",
     "exception": false,
     "start_time": "2021-03-05T23:34:11.934406",
     "status": "completed"
    },
    "tags": []
   },
   "source": [
    "Création du data loader pour les données d'entrainement complètes"
   ]
  },
  {
   "cell_type": "code",
   "execution_count": 39,
   "metadata": {
    "papermill": {
     "duration": 0.214528,
     "end_time": "2021-03-05T23:34:12.560098",
     "exception": false,
     "start_time": "2021-03-05T23:34:12.34557",
     "status": "completed"
    },
    "tags": []
   },
   "outputs": [],
   "source": [
    "train_dataset = ImageAudioDataset(root_dir=f'{datadir}/data/data/',\n",
    "                           files=img_list,\n",
    "                                 audio=normalize(audio),\n",
    "                                 labels=labels,\n",
    "                          img_transform=img_train_transform,\n",
    "                                 audio_transform=audio_transform)\n",
    "\n",
    "train_loader = DataLoader(train_dataset, batch_size=16, shuffle=True, num_workers=4, pin_memory=True)"
   ]
  },
  {
   "cell_type": "markdown",
   "metadata": {
    "papermill": {
     "duration": 0.209202,
     "end_time": "2021-03-05T23:34:12.973582",
     "exception": false,
     "start_time": "2021-03-05T23:34:12.76438",
     "status": "completed"
    },
    "tags": []
   },
   "source": [
    "Entraînement du MLP classifieur sur les données audio complètes"
   ]
  },
  {
   "cell_type": "code",
   "execution_count": 40,
   "metadata": {
    "papermill": {
     "duration": 2000.882523,
     "end_time": "2021-03-06T00:07:34.063536",
     "exception": false,
     "start_time": "2021-03-05T23:34:13.181013",
     "status": "completed"
    },
    "tags": []
   },
   "outputs": [
    {
     "name": "stdout",
     "output_type": "stream",
     "text": [
      "[1,   100] loss: 1.524\n",
      "[1,   200] loss: 0.996\n",
      "[1,   300] loss: 0.807\n",
      "[1,   400] loss: 0.728\n",
      "[1,   500] loss: 0.701\n",
      "[1,   600] loss: 0.648\n",
      "[1,   700] loss: 0.677\n",
      "[1,   800] loss: 0.603\n",
      "Learning rate : 0.001\n",
      "Train accuracy: 0.7442399263381958\n",
      "Epoch duration : 23.307010889053345\n",
      "[2,   100] loss: 0.562\n",
      "[2,   200] loss: 0.548\n",
      "[2,   300] loss: 0.503\n",
      "[2,   400] loss: 0.486\n",
      "[2,   500] loss: 0.475\n",
      "[2,   600] loss: 0.431\n",
      "[2,   700] loss: 0.480\n",
      "[2,   800] loss: 0.400\n",
      "Learning rate : 0.001\n",
      "Train accuracy: 0.8456745147705078\n",
      "Epoch duration : 23.34277629852295\n",
      "[3,   100] loss: 0.451\n",
      "[3,   200] loss: 0.422\n",
      "[3,   300] loss: 0.442\n",
      "[3,   400] loss: 0.434\n",
      "[3,   500] loss: 0.408\n",
      "[3,   600] loss: 0.414\n",
      "[3,   700] loss: 0.416\n",
      "[3,   800] loss: 0.415\n",
      "Learning rate : 0.001\n",
      "Train accuracy: 0.8623387813568115\n",
      "Epoch duration : 23.240138292312622\n",
      "[4,   100] loss: 0.346\n",
      "[4,   200] loss: 0.391\n",
      "[4,   300] loss: 0.373\n",
      "[4,   400] loss: 0.367\n",
      "[4,   500] loss: 0.322\n",
      "[4,   600] loss: 0.365\n",
      "[4,   700] loss: 0.399\n",
      "[4,   800] loss: 0.340\n",
      "Learning rate : 0.001\n",
      "Train accuracy: 0.8787856698036194\n",
      "Epoch duration : 23.24915361404419\n",
      "[5,   100] loss: 0.371\n",
      "[5,   200] loss: 0.341\n",
      "[5,   300] loss: 0.336\n",
      "[5,   400] loss: 0.375\n",
      "[5,   500] loss: 0.339\n",
      "[5,   600] loss: 0.345\n",
      "[5,   700] loss: 0.343\n",
      "[5,   800] loss: 0.318\n",
      "Learning rate : 0.001\n",
      "Train accuracy: 0.8854513764381409\n",
      "Epoch duration : 23.33713960647583\n",
      "[6,   100] loss: 0.320\n",
      "[6,   200] loss: 0.279\n",
      "[6,   300] loss: 0.358\n",
      "[6,   400] loss: 0.315\n",
      "[6,   500] loss: 0.323\n",
      "[6,   600] loss: 0.285\n",
      "[6,   700] loss: 0.304\n",
      "[6,   800] loss: 0.277\n",
      "Learning rate : 0.001\n",
      "Train accuracy: 0.8974061608314514\n",
      "Epoch duration : 23.22173547744751\n",
      "[7,   100] loss: 0.286\n",
      "[7,   200] loss: 0.294\n",
      "[7,   300] loss: 0.298\n",
      "[7,   400] loss: 0.310\n",
      "[7,   500] loss: 0.295\n",
      "[7,   600] loss: 0.275\n",
      "[7,   700] loss: 0.297\n",
      "[7,   800] loss: 0.289\n",
      "Learning rate : 0.001\n",
      "Train accuracy: 0.9013186097145081\n",
      "Epoch duration : 23.383308172225952\n",
      "[8,   100] loss: 0.271\n",
      "[8,   200] loss: 0.284\n",
      "[8,   300] loss: 0.306\n",
      "[8,   400] loss: 0.263\n",
      "[8,   500] loss: 0.279\n",
      "[8,   600] loss: 0.268\n",
      "[8,   700] loss: 0.277\n",
      "[8,   800] loss: 0.297\n",
      "Learning rate : 0.001\n",
      "Train accuracy: 0.909360945224762\n",
      "Epoch duration : 23.40345859527588\n",
      "[9,   100] loss: 0.262\n",
      "[9,   200] loss: 0.269\n",
      "[9,   300] loss: 0.250\n",
      "[9,   400] loss: 0.297\n",
      "[9,   500] loss: 0.249\n",
      "[9,   600] loss: 0.276\n",
      "[9,   700] loss: 0.260\n",
      "[9,   800] loss: 0.253\n",
      "Learning rate : 0.001\n",
      "Train accuracy: 0.9137081503868103\n",
      "Epoch duration : 23.235596656799316\n",
      "[10,   100] loss: 0.278\n",
      "[10,   200] loss: 0.262\n",
      "[10,   300] loss: 0.301\n",
      "[10,   400] loss: 0.284\n",
      "[10,   500] loss: 0.257\n",
      "[10,   600] loss: 0.232\n",
      "[10,   700] loss: 0.272\n",
      "[10,   800] loss: 0.243\n",
      "Learning rate : 0.0005\n",
      "Train accuracy: 0.9106650948524475\n",
      "Epoch duration : 23.23656964302063\n",
      "[11,   100] loss: 0.200\n",
      "[11,   200] loss: 0.194\n",
      "[11,   300] loss: 0.241\n",
      "[11,   400] loss: 0.197\n",
      "[11,   500] loss: 0.209\n",
      "[11,   600] loss: 0.164\n",
      "[11,   700] loss: 0.225\n",
      "[11,   800] loss: 0.211\n",
      "Learning rate : 0.0005\n",
      "Train accuracy: 0.9318214654922485\n",
      "Epoch duration : 23.35583519935608\n",
      "[12,   100] loss: 0.206\n",
      "[12,   200] loss: 0.196\n",
      "[12,   300] loss: 0.197\n",
      "[12,   400] loss: 0.193\n",
      "[12,   500] loss: 0.202\n",
      "[12,   600] loss: 0.199\n",
      "[12,   700] loss: 0.184\n",
      "[12,   800] loss: 0.197\n",
      "Learning rate : 0.0005\n",
      "Train accuracy: 0.9345746636390686\n",
      "Epoch duration : 23.550191402435303\n",
      "[13,   100] loss: 0.182\n",
      "[13,   200] loss: 0.194\n",
      "[13,   300] loss: 0.213\n",
      "[13,   400] loss: 0.182\n",
      "[13,   500] loss: 0.168\n",
      "[13,   600] loss: 0.205\n",
      "[13,   700] loss: 0.203\n",
      "[13,   800] loss: 0.213\n",
      "Learning rate : 0.0005\n",
      "Train accuracy: 0.9344297647476196\n",
      "Epoch duration : 23.263316869735718\n",
      "[14,   100] loss: 0.177\n",
      "[14,   200] loss: 0.177\n",
      "[14,   300] loss: 0.228\n",
      "[14,   400] loss: 0.163\n",
      "[14,   500] loss: 0.209\n",
      "[14,   600] loss: 0.168\n",
      "[14,   700] loss: 0.204\n",
      "[14,   800] loss: 0.184\n",
      "Learning rate : 0.0005\n",
      "Train accuracy: 0.9366758465766907\n",
      "Epoch duration : 23.178277015686035\n",
      "[15,   100] loss: 0.181\n",
      "[15,   200] loss: 0.203\n",
      "[15,   300] loss: 0.180\n",
      "[15,   400] loss: 0.173\n",
      "[15,   500] loss: 0.171\n",
      "[15,   600] loss: 0.186\n",
      "[15,   700] loss: 0.188\n",
      "[15,   800] loss: 0.189\n",
      "Learning rate : 0.0005\n",
      "Train accuracy: 0.9380524158477783\n",
      "Epoch duration : 23.1290225982666\n",
      "[16,   100] loss: 0.166\n",
      "[16,   200] loss: 0.175\n",
      "[16,   300] loss: 0.191\n",
      "[16,   400] loss: 0.154\n",
      "[16,   500] loss: 0.140\n",
      "[16,   600] loss: 0.202\n",
      "[16,   700] loss: 0.166\n",
      "[16,   800] loss: 0.185\n",
      "Learning rate : 0.0005\n",
      "Train accuracy: 0.9429067969322205\n",
      "Epoch duration : 23.230666399002075\n",
      "[17,   100] loss: 0.149\n",
      "[17,   200] loss: 0.168\n",
      "[17,   300] loss: 0.150\n",
      "[17,   400] loss: 0.191\n",
      "[17,   500] loss: 0.172\n",
      "[17,   600] loss: 0.160\n",
      "[17,   700] loss: 0.206\n",
      "[17,   800] loss: 0.188\n",
      "Learning rate : 0.0005\n",
      "Train accuracy: 0.9425445199012756\n",
      "Epoch duration : 23.148180961608887\n",
      "[18,   100] loss: 0.173\n",
      "[18,   200] loss: 0.182\n",
      "[18,   300] loss: 0.151\n",
      "[18,   400] loss: 0.180\n",
      "[18,   500] loss: 0.188\n",
      "[18,   600] loss: 0.191\n",
      "[18,   700] loss: 0.169\n",
      "[18,   800] loss: 0.173\n",
      "Learning rate : 0.00025\n",
      "Train accuracy: 0.9409505724906921\n",
      "Epoch duration : 23.383610725402832\n",
      "[19,   100] loss: 0.142\n",
      "[19,   200] loss: 0.141\n",
      "[19,   300] loss: 0.161\n",
      "[19,   400] loss: 0.155\n",
      "[19,   500] loss: 0.134\n",
      "[19,   600] loss: 0.141\n",
      "[19,   700] loss: 0.156\n",
      "[19,   800] loss: 0.159\n",
      "Learning rate : 0.00025\n",
      "Train accuracy: 0.9501520991325378\n",
      "Epoch duration : 23.142183780670166\n",
      "[20,   100] loss: 0.126\n",
      "[20,   200] loss: 0.150\n",
      "[20,   300] loss: 0.166\n",
      "[20,   400] loss: 0.155\n",
      "[20,   500] loss: 0.141\n",
      "[20,   600] loss: 0.122\n",
      "[20,   700] loss: 0.160\n",
      "[20,   800] loss: 0.147\n",
      "Learning rate : 0.00025\n",
      "Train accuracy: 0.9500796794891357\n",
      "Epoch duration : 23.173748254776\n",
      "[21,   100] loss: 0.111\n",
      "[21,   200] loss: 0.141\n",
      "[21,   300] loss: 0.139\n",
      "[21,   400] loss: 0.150\n",
      "[21,   500] loss: 0.148\n",
      "[21,   600] loss: 0.140\n",
      "[21,   700] loss: 0.134\n",
      "[21,   800] loss: 0.155\n",
      "Learning rate : 0.00025\n",
      "Train accuracy: 0.9515287280082703\n",
      "Epoch duration : 23.159120082855225\n",
      "[22,   100] loss: 0.137\n",
      "[22,   200] loss: 0.158\n",
      "[22,   300] loss: 0.124\n",
      "[22,   400] loss: 0.147\n",
      "[22,   500] loss: 0.138\n",
      "[22,   600] loss: 0.117\n",
      "[22,   700] loss: 0.096\n",
      "[22,   800] loss: 0.145\n",
      "Learning rate : 0.00025\n",
      "Train accuracy: 0.9529053568840027\n",
      "Epoch duration : 23.20205330848694\n",
      "[23,   100] loss: 0.140\n",
      "[23,   200] loss: 0.132\n",
      "[23,   300] loss: 0.137\n",
      "[23,   400] loss: 0.145\n",
      "[23,   500] loss: 0.119\n",
      "[23,   600] loss: 0.130\n",
      "[23,   700] loss: 0.136\n",
      "[23,   800] loss: 0.140\n",
      "Learning rate : 0.000125\n",
      "Train accuracy: 0.9526879787445068\n",
      "Epoch duration : 23.235215187072754\n",
      "[24,   100] loss: 0.101\n",
      "[24,   200] loss: 0.159\n",
      "[24,   300] loss: 0.126\n",
      "[24,   400] loss: 0.138\n",
      "[24,   500] loss: 0.141\n",
      "[24,   600] loss: 0.146\n",
      "[24,   700] loss: 0.137\n",
      "[24,   800] loss: 0.116\n",
      "Learning rate : 0.000125\n",
      "Train accuracy: 0.9545717835426331\n",
      "Epoch duration : 23.213645458221436\n",
      "[25,   100] loss: 0.119\n",
      "[25,   200] loss: 0.123\n",
      "[25,   300] loss: 0.125\n",
      "[25,   400] loss: 0.098\n",
      "[25,   500] loss: 0.145\n",
      "[25,   600] loss: 0.122\n",
      "[25,   700] loss: 0.126\n",
      "[25,   800] loss: 0.125\n",
      "Learning rate : 0.000125\n",
      "Train accuracy: 0.9587016105651855\n",
      "Epoch duration : 23.212440252304077\n",
      "[26,   100] loss: 0.126\n",
      "[26,   200] loss: 0.116\n",
      "[26,   300] loss: 0.125\n",
      "[26,   400] loss: 0.112\n",
      "[26,   500] loss: 0.130\n",
      "[26,   600] loss: 0.107\n",
      "[26,   700] loss: 0.124\n",
      "[26,   800] loss: 0.112\n",
      "Learning rate : 0.000125\n",
      "Train accuracy: 0.9606578350067139\n",
      "Epoch duration : 23.18834924697876\n",
      "[27,   100] loss: 0.080\n",
      "[27,   200] loss: 0.121\n",
      "[27,   300] loss: 0.130\n",
      "[27,   400] loss: 0.133\n",
      "[27,   500] loss: 0.113\n",
      "[27,   600] loss: 0.109\n",
      "[27,   700] loss: 0.115\n",
      "[27,   800] loss: 0.140\n",
      "Learning rate : 0.000125\n",
      "Train accuracy: 0.9596434831619263\n",
      "Epoch duration : 23.137038230895996\n",
      "[28,   100] loss: 0.119\n",
      "[28,   200] loss: 0.103\n",
      "[28,   300] loss: 0.131\n",
      "[28,   400] loss: 0.118\n",
      "[28,   500] loss: 0.138\n",
      "[28,   600] loss: 0.124\n",
      "[28,   700] loss: 0.118\n",
      "[28,   800] loss: 0.112\n",
      "Learning rate : 6.25e-05\n",
      "Train accuracy: 0.9583393335342407\n",
      "Epoch duration : 23.21244525909424\n",
      "[29,   100] loss: 0.109\n",
      "[29,   200] loss: 0.138\n",
      "[29,   300] loss: 0.122\n",
      "[29,   400] loss: 0.122\n",
      "[29,   500] loss: 0.109\n",
      "[29,   600] loss: 0.112\n",
      "[29,   700] loss: 0.122\n",
      "[29,   800] loss: 0.107\n",
      "Learning rate : 6.25e-05\n",
      "Train accuracy: 0.9613823890686035\n",
      "Epoch duration : 23.043686866760254\n",
      "[30,   100] loss: 0.113\n",
      "[30,   200] loss: 0.105\n",
      "[30,   300] loss: 0.101\n",
      "[30,   400] loss: 0.100\n",
      "[30,   500] loss: 0.117\n",
      "[30,   600] loss: 0.097\n",
      "[30,   700] loss: 0.107\n",
      "[30,   800] loss: 0.104\n",
      "Learning rate : 6.25e-05\n",
      "Train accuracy: 0.9633386135101318\n",
      "Epoch duration : 23.26526975631714\n"
     ]
    }
   ],
   "source": [
    "mlp = MLP().cuda()\n",
    "optimizer = optim.Adam(mlp.parameters(), lr=0.001)\n",
    "criterion = nn.CrossEntropyLoss()\n",
    "scheduler = lr_scheduler.ReduceLROnPlateau(optimizer, patience=0,factor=0.5)\n",
    "mlp, loss_vals, train_acc_vals = train(mlp, train_loader, None, criterion, optimizer, scheduler, num_epochs=30, input_type='audio')"
   ]
  },
  {
   "cell_type": "code",
   "execution_count": 41,
   "metadata": {
    "papermill": {
     "duration": 0.513176,
     "end_time": "2021-03-06T00:07:34.85052",
     "exception": false,
     "start_time": "2021-03-06T00:07:34.337344",
     "status": "completed"
    },
    "tags": []
   },
   "outputs": [
    {
     "data": {
      "image/png": "[encoded data removed]",
      "text/plain": [
       "<Figure size 432x288 with 2 Axes>"
      ]
     },
     "metadata": {
      "needs_background": "light"
     },
     "output_type": "display_data"
    }
   ],
   "source": [
    "plt.subplot(1,2,1)\n",
    "plt.plot(loss_vals)\n",
    "plt.title('Loss')\n",
    "plt.subplot(1,2,2)\n",
    "plt.plot(train_acc_vals, label='Training accuracy')\n",
    "plt.title('Accuracy')\n",
    "plt.legend()\n",
    "plt.tight_layout()"
   ]
  },
  {
   "cell_type": "markdown",
   "metadata": {
    "papermill": {
     "duration": 0.275654,
     "end_time": "2021-03-06T00:07:35.413488",
     "exception": false,
     "start_time": "2021-03-06T00:07:35.137834",
     "status": "completed"
    },
    "tags": []
   },
   "source": [
    "Entraînement du classifieur multimodal sur les données complètes"
   ]
  },
  {
   "cell_type": "code",
   "execution_count": 42,
   "metadata": {
    "papermill": {
     "duration": 0.325677,
     "end_time": "2021-03-06T00:07:36.015084",
     "exception": false,
     "start_time": "2021-03-06T00:07:35.689407",
     "status": "completed"
    },
    "tags": []
   },
   "outputs": [],
   "source": [
    "multi_clf = MultimodalClf(resnext, mlp).cuda()\n",
    "for param in multi_clf.img_feat.parameters():\n",
    "    param.requires_grad = False\n",
    "for param in multi_clf.audio_feat.parameters():\n",
    "    param.requires_grad = False"
   ]
  },
  {
   "cell_type": "code",
   "execution_count": 43,
   "metadata": {
    "papermill": {
     "duration": 2321.775132,
     "end_time": "2021-03-06T00:46:18.064063",
     "exception": false,
     "start_time": "2021-03-06T00:07:36.288931",
     "status": "completed"
    },
    "tags": []
   },
   "outputs": [
    {
     "name": "stdout",
     "output_type": "stream",
     "text": [
      "[1,   100] loss: 0.400\n",
      "[1,   200] loss: 0.120\n",
      "[1,   300] loss: 0.104\n",
      "[1,   400] loss: 0.071\n",
      "[1,   500] loss: 0.086\n",
      "[1,   600] loss: 0.061\n",
      "[1,   700] loss: 0.052\n",
      "[1,   800] loss: 0.040\n",
      "Learning rate : 0.001\n",
      "Train accuracy: 0.9669612646102905\n",
      "Epoch duration : 34.288822650909424\n",
      "[2,   100] loss: 0.040\n",
      "[2,   200] loss: 0.056\n",
      "[2,   300] loss: 0.036\n",
      "[2,   400] loss: 0.043\n",
      "[2,   500] loss: 0.035\n",
      "[2,   600] loss: 0.036\n",
      "[2,   700] loss: 0.043\n",
      "[2,   800] loss: 0.040\n",
      "Learning rate : 0.001\n",
      "Train accuracy: 0.9860165119171143\n",
      "Epoch duration : 34.43674039840698\n",
      "[3,   100] loss: 0.033\n",
      "[3,   200] loss: 0.035\n",
      "[3,   300] loss: 0.022\n",
      "[3,   400] loss: 0.027\n",
      "[3,   500] loss: 0.045\n",
      "[3,   600] loss: 0.036\n",
      "[3,   700] loss: 0.041\n",
      "[3,   800] loss: 0.025\n",
      "Learning rate : 0.001\n",
      "Train accuracy: 0.9884074330329895\n",
      "Epoch duration : 33.94582176208496\n",
      "[4,   100] loss: 0.040\n",
      "[4,   200] loss: 0.027\n",
      "[4,   300] loss: 0.035\n",
      "[4,   400] loss: 0.031\n",
      "[4,   500] loss: 0.025\n",
      "[4,   600] loss: 0.023\n",
      "[4,   700] loss: 0.036\n",
      "[4,   800] loss: 0.037\n",
      "Learning rate : 0.001\n",
      "Train accuracy: 0.9892768859863281\n",
      "Epoch duration : 33.380316734313965\n",
      "[5,   100] loss: 0.038\n",
      "[5,   200] loss: 0.023\n",
      "[5,   300] loss: 0.041\n",
      "[5,   400] loss: 0.025\n",
      "[5,   500] loss: 0.037\n",
      "[5,   600] loss: 0.041\n",
      "[5,   700] loss: 0.032\n",
      "[5,   800] loss: 0.035\n",
      "Learning rate : 0.0005\n",
      "Train accuracy: 0.9885523319244385\n",
      "Epoch duration : 33.473400831222534\n",
      "[6,   100] loss: 0.026\n",
      "[6,   200] loss: 0.033\n",
      "[6,   300] loss: 0.028\n",
      "[6,   400] loss: 0.020\n",
      "[6,   500] loss: 0.020\n",
      "[6,   600] loss: 0.023\n",
      "[6,   700] loss: 0.024\n",
      "[6,   800] loss: 0.026\n",
      "Learning rate : 0.0005\n",
      "Train accuracy: 0.9928271174430847\n",
      "Epoch duration : 34.19805955886841\n",
      "[7,   100] loss: 0.034\n",
      "[7,   200] loss: 0.039\n",
      "[7,   300] loss: 0.019\n",
      "[7,   400] loss: 0.019\n",
      "[7,   500] loss: 0.034\n",
      "[7,   600] loss: 0.022\n",
      "[7,   700] loss: 0.032\n",
      "[7,   800] loss: 0.027\n",
      "Learning rate : 0.00025\n",
      "Train accuracy: 0.9913780093193054\n",
      "Epoch duration : 34.96067929267883\n",
      "[8,   100] loss: 0.018\n",
      "[8,   200] loss: 0.026\n",
      "[8,   300] loss: 0.011\n",
      "[8,   400] loss: 0.012\n",
      "[8,   500] loss: 0.049\n",
      "[8,   600] loss: 0.011\n",
      "[8,   700] loss: 0.036\n",
      "[8,   800] loss: 0.013\n",
      "Learning rate : 0.00025\n",
      "Train accuracy: 0.9940587878227234\n",
      "Epoch duration : 35.27904009819031\n",
      "[9,   100] loss: 0.033\n",
      "[9,   200] loss: 0.031\n",
      "[9,   300] loss: 0.028\n",
      "[9,   400] loss: 0.014\n",
      "[9,   500] loss: 0.025\n",
      "[9,   600] loss: 0.024\n",
      "[9,   700] loss: 0.017\n",
      "[9,   800] loss: 0.026\n",
      "Learning rate : 0.000125\n",
      "Train accuracy: 0.9926097393035889\n",
      "Epoch duration : 35.24801230430603\n",
      "[10,   100] loss: 0.016\n",
      "[10,   200] loss: 0.022\n",
      "[10,   300] loss: 0.019\n",
      "[10,   400] loss: 0.022\n",
      "[10,   500] loss: 0.024\n",
      "[10,   600] loss: 0.016\n",
      "[10,   700] loss: 0.029\n",
      "[10,   800] loss: 0.019\n",
      "Learning rate : 0.000125\n",
      "Train accuracy: 0.9937689900398254\n",
      "Epoch duration : 34.904700756073\n",
      "[11,   100] loss: 0.016\n",
      "[11,   200] loss: 0.027\n",
      "[11,   300] loss: 0.006\n",
      "[11,   400] loss: 0.010\n",
      "[11,   500] loss: 0.010\n",
      "[11,   600] loss: 0.012\n",
      "[11,   700] loss: 0.015\n",
      "[11,   800] loss: 0.017\n",
      "Learning rate : 0.000125\n",
      "Train accuracy: 0.9959425926208496\n",
      "Epoch duration : 34.459296464920044\n",
      "[12,   100] loss: 0.013\n",
      "[12,   200] loss: 0.018\n",
      "[12,   300] loss: 0.017\n",
      "[12,   400] loss: 0.016\n",
      "[12,   500] loss: 0.014\n",
      "[12,   600] loss: 0.015\n",
      "[12,   700] loss: 0.018\n",
      "[12,   800] loss: 0.012\n",
      "Learning rate : 6.25e-05\n",
      "Train accuracy: 0.9945659637451172\n",
      "Epoch duration : 34.94515919685364\n",
      "[13,   100] loss: 0.023\n",
      "[13,   200] loss: 0.009\n",
      "[13,   300] loss: 0.015\n",
      "[13,   400] loss: 0.008\n",
      "[13,   500] loss: 0.034\n",
      "[13,   600] loss: 0.015\n",
      "[13,   700] loss: 0.011\n",
      "[13,   800] loss: 0.021\n",
      "Learning rate : 3.125e-05\n",
      "Train accuracy: 0.9950007200241089\n",
      "Epoch duration : 34.97676658630371\n",
      "[14,   100] loss: 0.014\n",
      "[14,   200] loss: 0.010\n",
      "[14,   300] loss: 0.032\n",
      "[14,   400] loss: 0.015\n",
      "[14,   500] loss: 0.009\n",
      "[14,   600] loss: 0.016\n",
      "[14,   700] loss: 0.009\n",
      "[14,   800] loss: 0.025\n",
      "Learning rate : 1.5625e-05\n",
      "Train accuracy: 0.9950007200241089\n",
      "Epoch duration : 34.16200923919678\n",
      "[15,   100] loss: 0.010\n",
      "[15,   200] loss: 0.018\n",
      "[15,   300] loss: 0.010\n",
      "[15,   400] loss: 0.013\n",
      "[15,   500] loss: 0.022\n",
      "[15,   600] loss: 0.016\n",
      "[15,   700] loss: 0.022\n",
      "[15,   800] loss: 0.014\n",
      "Learning rate : 7.8125e-06\n",
      "Train accuracy: 0.994783341884613\n",
      "Epoch duration : 33.43736815452576\n",
      "[16,   100] loss: 0.019\n",
      "[16,   200] loss: 0.015\n",
      "[16,   300] loss: 0.020\n",
      "[16,   400] loss: 0.022\n",
      "[16,   500] loss: 0.026\n",
      "[16,   600] loss: 0.013\n",
      "[16,   700] loss: 0.020\n",
      "[16,   800] loss: 0.019\n",
      "Learning rate : 3.90625e-06\n",
      "Train accuracy: 0.9936965107917786\n",
      "Epoch duration : 33.659571409225464\n",
      "[17,   100] loss: 0.007\n",
      "[17,   200] loss: 0.007\n",
      "[17,   300] loss: 0.011\n",
      "[17,   400] loss: 0.008\n",
      "[17,   500] loss: 0.020\n",
      "[17,   600] loss: 0.014\n",
      "[17,   700] loss: 0.010\n",
      "[17,   800] loss: 0.006\n",
      "Learning rate : 3.90625e-06\n",
      "Train accuracy: 0.9963048696517944\n",
      "Epoch duration : 33.17831325531006\n",
      "[18,   100] loss: 0.015\n",
      "[18,   200] loss: 0.028\n",
      "[18,   300] loss: 0.017\n",
      "[18,   400] loss: 0.015\n",
      "[18,   500] loss: 0.012\n",
      "[18,   600] loss: 0.009\n",
      "[18,   700] loss: 0.008\n",
      "[18,   800] loss: 0.007\n",
      "Learning rate : 1.953125e-06\n",
      "Train accuracy: 0.9960874915122986\n",
      "Epoch duration : 33.01782822608948\n",
      "[19,   100] loss: 0.009\n",
      "[19,   200] loss: 0.004\n",
      "[19,   300] loss: 0.009\n",
      "[19,   400] loss: 0.025\n",
      "[19,   500] loss: 0.034\n",
      "[19,   600] loss: 0.015\n",
      "[19,   700] loss: 0.011\n",
      "[19,   800] loss: 0.009\n",
      "Learning rate : 9.765625e-07\n",
      "Train accuracy: 0.9957252144813538\n",
      "Epoch duration : 33.02999925613403\n",
      "[20,   100] loss: 0.015\n",
      "[20,   200] loss: 0.004\n",
      "[20,   300] loss: 0.033\n",
      "[20,   400] loss: 0.017\n",
      "[20,   500] loss: 0.012\n",
      "[20,   600] loss: 0.005\n",
      "[20,   700] loss: 0.018\n",
      "[20,   800] loss: 0.004\n",
      "Learning rate : 4.8828125e-07\n",
      "Train accuracy: 0.9960874915122986\n",
      "Epoch duration : 32.762754678726196\n",
      "[21,   100] loss: 0.017\n",
      "[21,   200] loss: 0.015\n",
      "[21,   300] loss: 0.009\n",
      "[21,   400] loss: 0.014\n",
      "[21,   500] loss: 0.016\n",
      "[21,   600] loss: 0.009\n",
      "[21,   700] loss: 0.020\n",
      "[21,   800] loss: 0.012\n",
      "Learning rate : 2.44140625e-07\n",
      "Train accuracy: 0.9957976937294006\n",
      "Epoch duration : 32.77476739883423\n",
      "[22,   100] loss: 0.011\n",
      "[22,   200] loss: 0.011\n",
      "[22,   300] loss: 0.016\n",
      "[22,   400] loss: 0.029\n",
      "[22,   500] loss: 0.009\n",
      "[22,   600] loss: 0.010\n",
      "[22,   700] loss: 0.024\n",
      "[22,   800] loss: 0.004\n",
      "Learning rate : 1.220703125e-07\n",
      "Train accuracy: 0.99521803855896\n",
      "Epoch duration : 32.773764848709106\n",
      "[23,   100] loss: 0.014\n",
      "[23,   200] loss: 0.020\n",
      "[23,   300] loss: 0.012\n",
      "[23,   400] loss: 0.010\n",
      "[23,   500] loss: 0.012\n",
      "[23,   600] loss: 0.020\n",
      "[23,   700] loss: 0.013\n",
      "[23,   800] loss: 0.013\n",
      "Learning rate : 6.103515625e-08\n",
      "Train accuracy: 0.9948557615280151\n",
      "Epoch duration : 32.9289071559906\n",
      "[24,   100] loss: 0.007\n",
      "[24,   200] loss: 0.014\n",
      "[24,   300] loss: 0.013\n",
      "[24,   400] loss: 0.008\n",
      "[24,   500] loss: 0.014\n",
      "[24,   600] loss: 0.013\n",
      "[24,   700] loss: 0.025\n",
      "[24,   800] loss: 0.008\n",
      "Learning rate : 3.0517578125e-08\n",
      "Train accuracy: 0.9957252144813538\n",
      "Epoch duration : 32.835532903671265\n",
      "[25,   100] loss: 0.012\n",
      "[25,   200] loss: 0.013\n",
      "[25,   300] loss: 0.017\n",
      "[25,   400] loss: 0.009\n",
      "[25,   500] loss: 0.013\n",
      "[25,   600] loss: 0.017\n",
      "[25,   700] loss: 0.019\n",
      "[25,   800] loss: 0.014\n",
      "Learning rate : 1.52587890625e-08\n",
      "Train accuracy: 0.9956527948379517\n",
      "Epoch duration : 33.06317114830017\n",
      "[26,   100] loss: 0.017\n",
      "[26,   200] loss: 0.010\n",
      "[26,   300] loss: 0.014\n",
      "[26,   400] loss: 0.012\n",
      "[26,   500] loss: 0.012\n",
      "[26,   600] loss: 0.012\n",
      "[26,   700] loss: 0.015\n",
      "[26,   800] loss: 0.015\n",
      "Learning rate : 1.52587890625e-08\n",
      "Train accuracy: 0.9957976937294006\n",
      "Epoch duration : 32.79678559303284\n",
      "[27,   100] loss: 0.013\n",
      "[27,   200] loss: 0.007\n",
      "[27,   300] loss: 0.011\n",
      "[27,   400] loss: 0.020\n",
      "[27,   500] loss: 0.008\n",
      "[27,   600] loss: 0.018\n",
      "[27,   700] loss: 0.010\n",
      "[27,   800] loss: 0.011\n",
      "Learning rate : 1.52587890625e-08\n",
      "Train accuracy: 0.9960150718688965\n",
      "Epoch duration : 32.77977108955383\n",
      "[28,   100] loss: 0.012\n",
      "[28,   200] loss: 0.017\n",
      "[28,   300] loss: 0.017\n",
      "[28,   400] loss: 0.011\n",
      "[28,   500] loss: 0.012\n",
      "[28,   600] loss: 0.012\n",
      "[28,   700] loss: 0.013\n",
      "[28,   800] loss: 0.017\n",
      "Learning rate : 1.52587890625e-08\n",
      "Train accuracy: 0.9956527948379517\n",
      "Epoch duration : 32.72073984146118\n",
      "[29,   100] loss: 0.014\n",
      "[29,   200] loss: 0.023\n",
      "[29,   300] loss: 0.015\n",
      "[29,   400] loss: 0.017\n",
      "[29,   500] loss: 0.016\n",
      "[29,   600] loss: 0.017\n",
      "[29,   700] loss: 0.016\n",
      "[29,   800] loss: 0.012\n",
      "Learning rate : 1.52587890625e-08\n",
      "Train accuracy: 0.9946384429931641\n",
      "Epoch duration : 32.761754512786865\n",
      "[30,   100] loss: 0.015\n",
      "[30,   200] loss: 0.017\n",
      "[30,   300] loss: 0.032\n",
      "[30,   400] loss: 0.017\n",
      "[30,   500] loss: 0.019\n",
      "[30,   600] loss: 0.016\n",
      "[30,   700] loss: 0.017\n",
      "[30,   800] loss: 0.007\n",
      "Learning rate : 1.52587890625e-08\n",
      "Train accuracy: 0.9952905178070068\n",
      "Epoch duration : 32.808797121047974\n"
     ]
    }
   ],
   "source": [
    "optimizer = optim.Adam(multi_clf.final.parameters(), lr=0.001)\n",
    "criterion = nn.CrossEntropyLoss()\n",
    "scheduler = lr_scheduler.ReduceLROnPlateau(optimizer, patience=0,factor=0.5)\n",
    "multi_clf, loss_vals, train_acc_vals = train(multi_clf, train_loader, None, criterion, optimizer, scheduler, num_epochs=30, input_type='multimodal')"
   ]
  },
  {
   "cell_type": "code",
   "execution_count": 44,
   "metadata": {
    "papermill": {
     "duration": 0.58398,
     "end_time": "2021-03-06T00:46:18.990711",
     "exception": false,
     "start_time": "2021-03-06T00:46:18.406731",
     "status": "completed"
    },
    "tags": []
   },
   "outputs": [
    {
     "data": {
      "image/png": "[encoded data removed]",
      "text/plain": [
       "<Figure size 432x288 with 2 Axes>"
      ]
     },
     "metadata": {
      "needs_background": "light"
     },
     "output_type": "display_data"
    }
   ],
   "source": [
    "plt.subplot(1,2,1)\n",
    "plt.plot(loss_vals)\n",
    "plt.title('Loss')\n",
    "plt.subplot(1,2,2)\n",
    "plt.plot(train_acc_vals, label='Training accuracy')\n",
    "plt.title('Accuracy')\n",
    "plt.legend()\n",
    "plt.tight_layout()"
   ]
  },
  {
   "cell_type": "markdown",
   "metadata": {
    "papermill": {
     "duration": 0.39184,
     "end_time": "2021-03-06T00:46:19.725068",
     "exception": false,
     "start_time": "2021-03-06T00:46:19.333228",
     "status": "completed"
    },
    "tags": []
   },
   "source": [
    "Sauvegarde du modèle entraîné sur les données complètes."
   ]
  },
  {
   "cell_type": "code",
   "execution_count": 45,
   "metadata": {
    "papermill": {
     "duration": 0.529559,
     "end_time": "2021-03-06T00:46:20.59657",
     "exception": false,
     "start_time": "2021-03-06T00:46:20.067011",
     "status": "completed"
    },
    "tags": []
   },
   "outputs": [],
   "source": [
    "torch.save(multi_clf.state_dict(), 'multi_clf_cplt.pt')"
   ]
  },
  {
   "cell_type": "code",
   "execution_count": 46,
   "metadata": {
    "papermill": {
     "duration": 0.452346,
     "end_time": "2021-03-06T00:46:21.396435",
     "exception": false,
     "start_time": "2021-03-06T00:46:20.944089",
     "status": "completed"
    },
    "tags": []
   },
   "outputs": [
    {
     "data": {
      "text/plain": [
       "MultimodalClf(\n",
       "  (img_feat): ResNet(\n",
       "    (conv1): Conv2d(3, 64, kernel_size=(7, 7), stride=(2, 2), padding=(3, 3), bias=False)\n",
       "    (bn1): BatchNorm2d(64, eps=1e-05, momentum=0.1, affine=True, track_running_stats=True)\n",
       "    (relu): ReLU(inplace=True)\n",
       "    (maxpool): MaxPool2d(kernel_size=3, stride=2, padding=1, dilation=1, ceil_mode=False)\n",
       "    (layer1): Sequential(\n",
       "      (0): Bottleneck(\n",
       "        (conv1): Conv2d(64, 128, kernel_size=(1, 1), stride=(1, 1), bias=False)\n",
       "        (bn1): BatchNorm2d(128, eps=1e-05, momentum=0.1, affine=True, track_running_stats=True)\n",
       "        (conv2): Conv2d(128, 128, kernel_size=(3, 3), stride=(1, 1), padding=(1, 1), groups=32, bias=False)\n",
       "        (bn2): BatchNorm2d(128, eps=1e-05, momentum=0.1, affine=True, track_running_stats=True)\n",
       "        (conv3): Conv2d(128, 256, kernel_size=(1, 1), stride=(1, 1), bias=False)\n",
       "        (bn3): BatchNorm2d(256, eps=1e-05, momentum=0.1, affine=True, track_running_stats=True)\n",
       "        (relu): ReLU(inplace=True)\n",
       "        (downsample): Sequential(\n",
       "          (0): Conv2d(64, 256, kernel_size=(1, 1), stride=(1, 1), bias=False)\n",
       "          (1): BatchNorm2d(256, eps=1e-05, momentum=0.1, affine=True, track_running_stats=True)\n",
       "        )\n",
       "      )\n",
       "      (1): Bottleneck(\n",
       "        (conv1): Conv2d(256, 128, kernel_size=(1, 1), stride=(1, 1), bias=False)\n",
       "        (bn1): BatchNorm2d(128, eps=1e-05, momentum=0.1, affine=True, track_running_stats=True)\n",
       "        (conv2): Conv2d(128, 128, kernel_size=(3, 3), stride=(1, 1), padding=(1, 1), groups=32, bias=False)\n",
       "        (bn2): BatchNorm2d(128, eps=1e-05, momentum=0.1, affine=True, track_running_stats=True)\n",
       "        (conv3): Conv2d(128, 256, kernel_size=(1, 1), stride=(1, 1), bias=False)\n",
       "        (bn3): BatchNorm2d(256, eps=1e-05, momentum=0.1, affine=True, track_running_stats=True)\n",
       "        (relu): ReLU(inplace=True)\n",
       "      )\n",
       "      (2): Bottleneck(\n",
       "        (conv1): Conv2d(256, 128, kernel_size=(1, 1), stride=(1, 1), bias=False)\n",
       "        (bn1): BatchNorm2d(128, eps=1e-05, momentum=0.1, affine=True, track_running_stats=True)\n",
       "        (conv2): Conv2d(128, 128, kernel_size=(3, 3), stride=(1, 1), padding=(1, 1), groups=32, bias=False)\n",
       "        (bn2): BatchNorm2d(128, eps=1e-05, momentum=0.1, affine=True, track_running_stats=True)\n",
       "        (conv3): Conv2d(128, 256, kernel_size=(1, 1), stride=(1, 1), bias=False)\n",
       "        (bn3): BatchNorm2d(256, eps=1e-05, momentum=0.1, affine=True, track_running_stats=True)\n",
       "        (relu): ReLU(inplace=True)\n",
       "      )\n",
       "    )\n",
       "    (layer2): Sequential(\n",
       "      (0): Bottleneck(\n",
       "        (conv1): Conv2d(256, 256, kernel_size=(1, 1), stride=(1, 1), bias=False)\n",
       "        (bn1): BatchNorm2d(256, eps=1e-05, momentum=0.1, affine=True, track_running_stats=True)\n",
       "        (conv2): Conv2d(256, 256, kernel_size=(3, 3), stride=(2, 2), padding=(1, 1), groups=32, bias=False)\n",
       "        (bn2): BatchNorm2d(256, eps=1e-05, momentum=0.1, affine=True, track_running_stats=True)\n",
       "        (conv3): Conv2d(256, 512, kernel_size=(1, 1), stride=(1, 1), bias=False)\n",
       "        (bn3): BatchNorm2d(512, eps=1e-05, momentum=0.1, affine=True, track_running_stats=True)\n",
       "        (relu): ReLU(inplace=True)\n",
       "        (downsample): Sequential(\n",
       "          (0): Conv2d(256, 512, kernel_size=(1, 1), stride=(2, 2), bias=False)\n",
       "          (1): BatchNorm2d(512, eps=1e-05, momentum=0.1, affine=True, track_running_stats=True)\n",
       "        )\n",
       "      )\n",
       "      (1): Bottleneck(\n",
       "        (conv1): Conv2d(512, 256, kernel_size=(1, 1), stride=(1, 1), bias=False)\n",
       "        (bn1): BatchNorm2d(256, eps=1e-05, momentum=0.1, affine=True, track_running_stats=True)\n",
       "        (conv2): Conv2d(256, 256, kernel_size=(3, 3), stride=(1, 1), padding=(1, 1), groups=32, bias=False)\n",
       "        (bn2): BatchNorm2d(256, eps=1e-05, momentum=0.1, affine=True, track_running_stats=True)\n",
       "        (conv3): Conv2d(256, 512, kernel_size=(1, 1), stride=(1, 1), bias=False)\n",
       "        (bn3): BatchNorm2d(512, eps=1e-05, momentum=0.1, affine=True, track_running_stats=True)\n",
       "        (relu): ReLU(inplace=True)\n",
       "      )\n",
       "      (2): Bottleneck(\n",
       "        (conv1): Conv2d(512, 256, kernel_size=(1, 1), stride=(1, 1), bias=False)\n",
       "        (bn1): BatchNorm2d(256, eps=1e-05, momentum=0.1, affine=True, track_running_stats=True)\n",
       "        (conv2): Conv2d(256, 256, kernel_size=(3, 3), stride=(1, 1), padding=(1, 1), groups=32, bias=False)\n",
       "        (bn2): BatchNorm2d(256, eps=1e-05, momentum=0.1, affine=True, track_running_stats=True)\n",
       "        (conv3): Conv2d(256, 512, kernel_size=(1, 1), stride=(1, 1), bias=False)\n",
       "        (bn3): BatchNorm2d(512, eps=1e-05, momentum=0.1, affine=True, track_running_stats=True)\n",
       "        (relu): ReLU(inplace=True)\n",
       "      )\n",
       "      (3): Bottleneck(\n",
       "        (conv1): Conv2d(512, 256, kernel_size=(1, 1), stride=(1, 1), bias=False)\n",
       "        (bn1): BatchNorm2d(256, eps=1e-05, momentum=0.1, affine=True, track_running_stats=True)\n",
       "        (conv2): Conv2d(256, 256, kernel_size=(3, 3), stride=(1, 1), padding=(1, 1), groups=32, bias=False)\n",
       "        (bn2): BatchNorm2d(256, eps=1e-05, momentum=0.1, affine=True, track_running_stats=True)\n",
       "        (conv3): Conv2d(256, 512, kernel_size=(1, 1), stride=(1, 1), bias=False)\n",
       "        (bn3): BatchNorm2d(512, eps=1e-05, momentum=0.1, affine=True, track_running_stats=True)\n",
       "        (relu): ReLU(inplace=True)\n",
       "      )\n",
       "    )\n",
       "    (layer3): Sequential(\n",
       "      (0): Bottleneck(\n",
       "        (conv1): Conv2d(512, 512, kernel_size=(1, 1), stride=(1, 1), bias=False)\n",
       "        (bn1): BatchNorm2d(512, eps=1e-05, momentum=0.1, affine=True, track_running_stats=True)\n",
       "        (conv2): Conv2d(512, 512, kernel_size=(3, 3), stride=(2, 2), padding=(1, 1), groups=32, bias=False)\n",
       "        (bn2): BatchNorm2d(512, eps=1e-05, momentum=0.1, affine=True, track_running_stats=True)\n",
       "        (conv3): Conv2d(512, 1024, kernel_size=(1, 1), stride=(1, 1), bias=False)\n",
       "        (bn3): BatchNorm2d(1024, eps=1e-05, momentum=0.1, affine=True, track_running_stats=True)\n",
       "        (relu): ReLU(inplace=True)\n",
       "        (downsample): Sequential(\n",
       "          (0): Conv2d(512, 1024, kernel_size=(1, 1), stride=(2, 2), bias=False)\n",
       "          (1): BatchNorm2d(1024, eps=1e-05, momentum=0.1, affine=True, track_running_stats=True)\n",
       "        )\n",
       "      )\n",
       "      (1): Bottleneck(\n",
       "        (conv1): Conv2d(1024, 512, kernel_size=(1, 1), stride=(1, 1), bias=False)\n",
       "        (bn1): BatchNorm2d(512, eps=1e-05, momentum=0.1, affine=True, track_running_stats=True)\n",
       "        (conv2): Conv2d(512, 512, kernel_size=(3, 3), stride=(1, 1), padding=(1, 1), groups=32, bias=False)\n",
       "        (bn2): BatchNorm2d(512, eps=1e-05, momentum=0.1, affine=True, track_running_stats=True)\n",
       "        (conv3): Conv2d(512, 1024, kernel_size=(1, 1), stride=(1, 1), bias=False)\n",
       "        (bn3): BatchNorm2d(1024, eps=1e-05, momentum=0.1, affine=True, track_running_stats=True)\n",
       "        (relu): ReLU(inplace=True)\n",
       "      )\n",
       "      (2): Bottleneck(\n",
       "        (conv1): Conv2d(1024, 512, kernel_size=(1, 1), stride=(1, 1), bias=False)\n",
       "        (bn1): BatchNorm2d(512, eps=1e-05, momentum=0.1, affine=True, track_running_stats=True)\n",
       "        (conv2): Conv2d(512, 512, kernel_size=(3, 3), stride=(1, 1), padding=(1, 1), groups=32, bias=False)\n",
       "        (bn2): BatchNorm2d(512, eps=1e-05, momentum=0.1, affine=True, track_running_stats=True)\n",
       "        (conv3): Conv2d(512, 1024, kernel_size=(1, 1), stride=(1, 1), bias=False)\n",
       "        (bn3): BatchNorm2d(1024, eps=1e-05, momentum=0.1, affine=True, track_running_stats=True)\n",
       "        (relu): ReLU(inplace=True)\n",
       "      )\n",
       "      (3): Bottleneck(\n",
       "        (conv1): Conv2d(1024, 512, kernel_size=(1, 1), stride=(1, 1), bias=False)\n",
       "        (bn1): BatchNorm2d(512, eps=1e-05, momentum=0.1, affine=True, track_running_stats=True)\n",
       "        (conv2): Conv2d(512, 512, kernel_size=(3, 3), stride=(1, 1), padding=(1, 1), groups=32, bias=False)\n",
       "        (bn2): BatchNorm2d(512, eps=1e-05, momentum=0.1, affine=True, track_running_stats=True)\n",
       "        (conv3): Conv2d(512, 1024, kernel_size=(1, 1), stride=(1, 1), bias=False)\n",
       "        (bn3): BatchNorm2d(1024, eps=1e-05, momentum=0.1, affine=True, track_running_stats=True)\n",
       "        (relu): ReLU(inplace=True)\n",
       "      )\n",
       "      (4): Bottleneck(\n",
       "        (conv1): Conv2d(1024, 512, kernel_size=(1, 1), stride=(1, 1), bias=False)\n",
       "        (bn1): BatchNorm2d(512, eps=1e-05, momentum=0.1, affine=True, track_running_stats=True)\n",
       "        (conv2): Conv2d(512, 512, kernel_size=(3, 3), stride=(1, 1), padding=(1, 1), groups=32, bias=False)\n",
       "        (bn2): BatchNorm2d(512, eps=1e-05, momentum=0.1, affine=True, track_running_stats=True)\n",
       "        (conv3): Conv2d(512, 1024, kernel_size=(1, 1), stride=(1, 1), bias=False)\n",
       "        (bn3): BatchNorm2d(1024, eps=1e-05, momentum=0.1, affine=True, track_running_stats=True)\n",
       "        (relu): ReLU(inplace=True)\n",
       "      )\n",
       "      (5): Bottleneck(\n",
       "        (conv1): Conv2d(1024, 512, kernel_size=(1, 1), stride=(1, 1), bias=False)\n",
       "        (bn1): BatchNorm2d(512, eps=1e-05, momentum=0.1, affine=True, track_running_stats=True)\n",
       "        (conv2): Conv2d(512, 512, kernel_size=(3, 3), stride=(1, 1), padding=(1, 1), groups=32, bias=False)\n",
       "        (bn2): BatchNorm2d(512, eps=1e-05, momentum=0.1, affine=True, track_running_stats=True)\n",
       "        (conv3): Conv2d(512, 1024, kernel_size=(1, 1), stride=(1, 1), bias=False)\n",
       "        (bn3): BatchNorm2d(1024, eps=1e-05, momentum=0.1, affine=True, track_running_stats=True)\n",
       "        (relu): ReLU(inplace=True)\n",
       "      )\n",
       "    )\n",
       "    (layer4): Sequential(\n",
       "      (0): Bottleneck(\n",
       "        (conv1): Conv2d(1024, 1024, kernel_size=(1, 1), stride=(1, 1), bias=False)\n",
       "        (bn1): BatchNorm2d(1024, eps=1e-05, momentum=0.1, affine=True, track_running_stats=True)\n",
       "        (conv2): Conv2d(1024, 1024, kernel_size=(3, 3), stride=(2, 2), padding=(1, 1), groups=32, bias=False)\n",
       "        (bn2): BatchNorm2d(1024, eps=1e-05, momentum=0.1, affine=True, track_running_stats=True)\n",
       "        (conv3): Conv2d(1024, 2048, kernel_size=(1, 1), stride=(1, 1), bias=False)\n",
       "        (bn3): BatchNorm2d(2048, eps=1e-05, momentum=0.1, affine=True, track_running_stats=True)\n",
       "        (relu): ReLU(inplace=True)\n",
       "        (downsample): Sequential(\n",
       "          (0): Conv2d(1024, 2048, kernel_size=(1, 1), stride=(2, 2), bias=False)\n",
       "          (1): BatchNorm2d(2048, eps=1e-05, momentum=0.1, affine=True, track_running_stats=True)\n",
       "        )\n",
       "      )\n",
       "      (1): Bottleneck(\n",
       "        (conv1): Conv2d(2048, 1024, kernel_size=(1, 1), stride=(1, 1), bias=False)\n",
       "        (bn1): BatchNorm2d(1024, eps=1e-05, momentum=0.1, affine=True, track_running_stats=True)\n",
       "        (conv2): Conv2d(1024, 1024, kernel_size=(3, 3), stride=(1, 1), padding=(1, 1), groups=32, bias=False)\n",
       "        (bn2): BatchNorm2d(1024, eps=1e-05, momentum=0.1, affine=True, track_running_stats=True)\n",
       "        (conv3): Conv2d(1024, 2048, kernel_size=(1, 1), stride=(1, 1), bias=False)\n",
       "        (bn3): BatchNorm2d(2048, eps=1e-05, momentum=0.1, affine=True, track_running_stats=True)\n",
       "        (relu): ReLU(inplace=True)\n",
       "      )\n",
       "      (2): Bottleneck(\n",
       "        (conv1): Conv2d(2048, 1024, kernel_size=(1, 1), stride=(1, 1), bias=False)\n",
       "        (bn1): BatchNorm2d(1024, eps=1e-05, momentum=0.1, affine=True, track_running_stats=True)\n",
       "        (conv2): Conv2d(1024, 1024, kernel_size=(3, 3), stride=(1, 1), padding=(1, 1), groups=32, bias=False)\n",
       "        (bn2): BatchNorm2d(1024, eps=1e-05, momentum=0.1, affine=True, track_running_stats=True)\n",
       "        (conv3): Conv2d(1024, 2048, kernel_size=(1, 1), stride=(1, 1), bias=False)\n",
       "        (bn3): BatchNorm2d(2048, eps=1e-05, momentum=0.1, affine=True, track_running_stats=True)\n",
       "        (relu): ReLU(inplace=True)\n",
       "      )\n",
       "    )\n",
       "    (avgpool): AdaptiveAvgPool2d(output_size=(1, 1))\n",
       "    (fc): Identity()\n",
       "  )\n",
       "  (audio_feat): MLP(\n",
       "    (linear1): Linear(in_features=104, out_features=156, bias=True)\n",
       "    (bn1): BatchNorm1d(156, eps=1e-05, momentum=0.1, affine=True, track_running_stats=True)\n",
       "    (linear2): Linear(in_features=156, out_features=208, bias=True)\n",
       "    (bn2): BatchNorm1d(208, eps=1e-05, momentum=0.1, affine=True, track_running_stats=True)\n",
       "    (linear3): Linear(in_features=208, out_features=156, bias=True)\n",
       "    (bn3): BatchNorm1d(156, eps=1e-05, momentum=0.1, affine=True, track_running_stats=True)\n",
       "    (linear4): Linear(in_features=156, out_features=104, bias=True)\n",
       "    (bn4): BatchNorm1d(104, eps=1e-05, momentum=0.1, affine=True, track_running_stats=True)\n",
       "    (linear5): Linear(in_features=104, out_features=64, bias=True)\n",
       "    (bn5): BatchNorm1d(64, eps=1e-05, momentum=0.1, affine=True, track_running_stats=True)\n",
       "    (final): Identity()\n",
       "  )\n",
       "  (bn): BatchNorm1d(2112, eps=1e-05, momentum=0.1, affine=True, track_running_stats=True)\n",
       "  (final): Linear(in_features=2112, out_features=9, bias=True)\n",
       ")"
      ]
     },
     "execution_count": 46,
     "metadata": {},
     "output_type": "execute_result"
    }
   ],
   "source": [
    "multi_clf.load_state_dict(torch.load('multi_clf_cplt.pt'))\n",
    "multi_clf.eval()"
   ]
  },
  {
   "cell_type": "markdown",
   "metadata": {
    "papermill": {
     "duration": 0.347954,
     "end_time": "2021-03-06T00:46:22.089219",
     "exception": false,
     "start_time": "2021-03-06T00:46:21.741265",
     "status": "completed"
    },
    "tags": []
   },
   "source": [
    "Prédictions sur les données de test"
   ]
  },
  {
   "cell_type": "code",
   "execution_count": 47,
   "metadata": {
    "papermill": {
     "duration": 15.060835,
     "end_time": "2021-03-06T00:46:37.52929",
     "exception": false,
     "start_time": "2021-03-06T00:46:22.468455",
     "status": "completed"
    },
    "tags": []
   },
   "outputs": [],
   "source": [
    "#====================================================================\n",
    "# Création du ficher de soumission\n",
    "y_pred = predict(multi_clf, test_loader, input_type='multimodal')\n",
    "submission = pd.DataFrame({'CLASS':y_pred})\n",
    "submission=submission.reset_index()\n",
    "submission = submission.rename(columns={'index': 'Id'})\n",
    "\n",
    "#======================================================================\n",
    "# Sauvegarde du fichier\n",
    "submission.to_csv('submission.csv', index=False)"
   ]
  },
  {
   "cell_type": "markdown",
   "metadata": {},
   "source": [
    "## Performances et perspectives d'amélioration"
   ]
  },
  {
   "cell_type": "markdown",
   "metadata": {},
   "source": [
    "On obtient environ 99.9% de précision que cela soit sur l'ensemble de validation ou l'ensemble de test. Si les performances sont aussi élevées, c'est probablement car l'ensemble de test contient des exemples trop proches de l'ensemble d'entraînement."
   ]
  },
  {
   "cell_type": "markdown",
   "metadata": {},
   "source": [
    "Il serait intéressant de pouvoir mesurer les performances du modèles sur des données totalement différentes de celles de l'ensemble d'entraînement."
   ]
  },
  {
   "cell_type": "markdown",
   "metadata": {},
   "source": [
    "Pour la classification à partir des données audio, on pourrait peut être bénéficier à apprendre les features à partir du signal audio plutôt qu'utiliser des coefficients MFCC (qui ne permettent pas de retrouver le signal original). Cela permettrait d'essayer une plus grande variété d'approches, comme des réseaux convolutionnels 1d, ou des CNN classiques appliqués aux spectrogrammes, des RNN, etc."
   ]
  }
 ],
 "metadata": {
  "kernelspec": {
   "display_name": "Python 3",
   "language": "python",
   "name": "python3"
  },
  "language_info": {
   "codemirror_mode": {
    "name": "ipython",
    "version": 3
   },
   "file_extension": ".py",
   "mimetype": "text/x-python",
   "name": "python",
   "nbconvert_exporter": "python",
   "pygments_lexer": "ipython3",
   "version": "3.8.5"
  }
 },
 "nbformat": 4,
 "nbformat_minor": 4
}
